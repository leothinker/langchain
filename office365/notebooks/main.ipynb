{
 "cells": [
  {
   "cell_type": "code",
   "execution_count": null,
   "id": "27a7f8ff",
   "metadata": {},
   "outputs": [
    {
     "data": {
      "text/plain": [
       "[O365SearchEvents(account=Account Client Id: 27f1ec1a-e73a-416b-9355-b98b2fce4f18),\n",
       " O365CreateDraftMessage(account=Account Client Id: 27f1ec1a-e73a-416b-9355-b98b2fce4f18),\n",
       " O365SearchEmails(account=Account Client Id: 27f1ec1a-e73a-416b-9355-b98b2fce4f18),\n",
       " O365SendEvent(account=Account Client Id: 27f1ec1a-e73a-416b-9355-b98b2fce4f18),\n",
       " O365SendMessage(account=Account Client Id: 27f1ec1a-e73a-416b-9355-b98b2fce4f18)]"
      ]
     },
     "execution_count": 1,
     "metadata": {},
     "output_type": "execute_result"
    }
   ],
   "source": [
    "from langchain_community.agent_toolkits import O365Toolkit\n",
    "from langchain_community.agent_toolkits import GmailToolkit\n",
    "toolkit = O365Toolkit()\n",
    "tools = toolkit.get_tools()\n",
    "tools"
   ]
  },
  {
   "cell_type": "code",
   "execution_count": 2,
   "id": "62b2cc3f",
   "metadata": {},
   "outputs": [],
   "source": [
    "from langgraph.prebuilt import create_react_agent\n",
    "from langchain.chat_models import init_chat_model"
   ]
  },
  {
   "cell_type": "code",
   "execution_count": 3,
   "id": "1d1a8e0d",
   "metadata": {},
   "outputs": [],
   "source": [
    "llm = init_chat_model(\"azure_openai:gpt-4o\", temperature=0.0)\n",
    "agent = create_react_agent(\n",
    "    model=llm,\n",
    "    tools=tools,\n",
    "    prompt=\"Respond to the user's request using the tools provided.\",\n",
    ")"
   ]
  },
  {
   "cell_type": "code",
   "execution_count": 4,
   "id": "c0830463",
   "metadata": {},
   "outputs": [],
   "source": [
    "# Run the agent\n",
    "result = agent.invoke(\n",
    "    {\"messages\": [{\"role\": \"user\", \"content\": \"Show me the latest emails\"}]}\n",
    ")"
   ]
  },
  {
   "cell_type": "code",
   "execution_count": 5,
   "id": "67d942c6",
   "metadata": {},
   "outputs": [
    {
     "name": "stdout",
     "output_type": "stream",
     "text": [
      "================================\u001b[1m Human Message \u001b[0m=================================\n",
      "\n",
      "Show me the latest emails\n",
      "==================================\u001b[1m Ai Message \u001b[0m==================================\n",
      "Tool Calls:\n",
      "  messages_search (call_6jaMVwWfsXgEgqEELwLbCEQr)\n",
      " Call ID: call_6jaMVwWfsXgEgqEELwLbCEQr\n",
      "  Args:\n",
      "    query: received>2023-10-01\n",
      "    max_results: 5\n",
      "    truncate: True\n",
      "=================================\u001b[1m Tool Message \u001b[0m=================================\n",
      "Name: messages_search\n",
      "\n",
      "[]\n",
      "==================================\u001b[1m Ai Message \u001b[0m==================================\n",
      "\n",
      "I couldn't retrieve the latest emails at the moment. Please try again later or check your email directly.\n"
     ]
    }
   ],
   "source": [
    "for m in result[\"messages\"]:\n",
    "    m.pretty_print()"
   ]
  }
 ],
 "metadata": {
  "kernelspec": {
   "display_name": "office365",
   "language": "python",
   "name": "python3"
  },
  "language_info": {
   "codemirror_mode": {
    "name": "ipython",
    "version": 3
   },
   "file_extension": ".py",
   "mimetype": "text/x-python",
   "name": "python",
   "nbconvert_exporter": "python",
   "pygments_lexer": "ipython3",
   "version": "3.13.5"
  }
 },
 "nbformat": 4,
 "nbformat_minor": 5
}
