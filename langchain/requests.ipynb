{
 "cells": [
  {
   "cell_type": "code",
   "execution_count": 1,
   "id": "ad069bb5",
   "metadata": {},
   "outputs": [],
   "source": [
    "ALLOW_DANGEROUS_REQUEST = True"
   ]
  },
  {
   "cell_type": "code",
   "execution_count": 2,
   "id": "0b79ee04",
   "metadata": {},
   "outputs": [],
   "source": [
    "from typing import Any, Dict, Union\n",
    "\n",
    "import requests\n",
    "import yaml\n",
    "\n",
    "\n",
    "def _get_schema(response_json: Union[dict, list]) -> dict:\n",
    "    if isinstance(response_json, list):\n",
    "        response_json = response_json[0] if response_json else {}\n",
    "    return {key: type(value).__name__ for key, value in response_json.items()}\n",
    "\n",
    "\n",
    "def _get_api_spec() -> str:\n",
    "    base_url = \"https://jsonplaceholder.typicode.com\"\n",
    "    endpoints = [\n",
    "        \"/posts\",\n",
    "        \"/comments\",\n",
    "    ]\n",
    "    common_query_parameters = [\n",
    "        {\n",
    "            \"name\": \"_limit\",\n",
    "            \"in\": \"query\",\n",
    "            \"required\": False,\n",
    "            \"schema\": {\"type\": \"integer\", \"example\": 2},\n",
    "            \"description\": \"Limit the number of results\",\n",
    "        }\n",
    "    ]\n",
    "    openapi_spec: Dict[str, Any] = {\n",
    "        \"openapi\": \"3.0.0\",\n",
    "        \"info\": {\"title\": \"JSONPlaceholder API\", \"version\": \"1.0.0\"},\n",
    "        \"servers\": [{\"url\": base_url}],\n",
    "        \"paths\": {},\n",
    "    }\n",
    "    # Iterate over the endpoints to construct the paths\n",
    "    for endpoint in endpoints:\n",
    "        response = requests.get(base_url + endpoint)\n",
    "        if response.status_code == 200:\n",
    "            schema = _get_schema(response.json())\n",
    "            openapi_spec[\"paths\"][endpoint] = {\n",
    "                \"get\": {\n",
    "                    \"summary\": f\"Get {endpoint[1:]}\",\n",
    "                    \"parameters\": common_query_parameters,\n",
    "                    \"responses\": {\n",
    "                        \"200\": {\n",
    "                            \"description\": \"Successful response\",\n",
    "                            \"content\": {\n",
    "                                \"application/json\": {\n",
    "                                    \"schema\": {\"type\": \"object\", \"properties\": schema}\n",
    "                                }\n",
    "                            },\n",
    "                        }\n",
    "                    },\n",
    "                }\n",
    "            }\n",
    "    return yaml.dump(openapi_spec, sort_keys=False)\n",
    "\n",
    "\n",
    "api_spec = _get_api_spec()"
   ]
  },
  {
   "cell_type": "code",
   "execution_count": 7,
   "id": "e40bcb8e",
   "metadata": {},
   "outputs": [
    {
     "data": {
      "text/plain": [
       "\"openapi: 3.0.0\\ninfo:\\n  title: JSONPlaceholder API\\n  version: 1.0.0\\nservers:\\n- url: https://jsonplaceholder.typicode.com\\npaths:\\n  /posts:\\n    get:\\n      summary: Get posts\\n      parameters: &id001\\n      - name: _limit\\n        in: query\\n        required: false\\n        schema:\\n          type: integer\\n          example: 2\\n        description: Limit the number of results\\n      responses:\\n        '200':\\n          description: Successful response\\n          content:\\n            application/json:\\n              schema:\\n                type: object\\n                properties:\\n                  userId: int\\n                  id: int\\n                  title: str\\n                  body: str\\n  /comments:\\n    get:\\n      summary: Get comments\\n      parameters: *id001\\n      responses:\\n        '200':\\n          description: Successful response\\n          content:\\n            application/json:\\n              schema:\\n                type: object\\n                properties:\\n                  postId: int\\n                  id: int\\n                  name: str\\n                  email: str\\n                  body: str\\n\""
      ]
     },
     "execution_count": 7,
     "metadata": {},
     "output_type": "execute_result"
    }
   ],
   "source": [
    "api_spec"
   ]
  },
  {
   "cell_type": "code",
   "execution_count": 3,
   "id": "fc6f2310",
   "metadata": {},
   "outputs": [],
   "source": [
    "from langchain_community.agent_toolkits.openapi.toolkit import RequestsToolkit\n",
    "from langchain_community.utilities.requests import TextRequestsWrapper\n",
    "\n",
    "toolkit = RequestsToolkit(\n",
    "    requests_wrapper=TextRequestsWrapper(headers={}),\n",
    "    allow_dangerous_requests=ALLOW_DANGEROUS_REQUEST,\n",
    ")"
   ]
  },
  {
   "cell_type": "code",
   "execution_count": 4,
   "id": "53334896",
   "metadata": {},
   "outputs": [
    {
     "data": {
      "text/plain": [
       "[RequestsGetTool(requests_wrapper=TextRequestsWrapper(headers={}, aiosession=None, auth=None, response_content_type='text', verify=True), allow_dangerous_requests=True),\n",
       " RequestsPostTool(requests_wrapper=TextRequestsWrapper(headers={}, aiosession=None, auth=None, response_content_type='text', verify=True), allow_dangerous_requests=True),\n",
       " RequestsPatchTool(requests_wrapper=TextRequestsWrapper(headers={}, aiosession=None, auth=None, response_content_type='text', verify=True), allow_dangerous_requests=True),\n",
       " RequestsPutTool(requests_wrapper=TextRequestsWrapper(headers={}, aiosession=None, auth=None, response_content_type='text', verify=True), allow_dangerous_requests=True),\n",
       " RequestsDeleteTool(requests_wrapper=TextRequestsWrapper(headers={}, aiosession=None, auth=None, response_content_type='text', verify=True), allow_dangerous_requests=True)]"
      ]
     },
     "execution_count": 4,
     "metadata": {},
     "output_type": "execute_result"
    }
   ],
   "source": [
    "tools = toolkit.get_tools()\n",
    "\n",
    "tools"
   ]
  },
  {
   "cell_type": "code",
   "execution_count": 5,
   "id": "b81adc90",
   "metadata": {},
   "outputs": [],
   "source": [
    "from langgraph.prebuilt import create_react_agent\n",
    "\n",
    "from langchain.chat_models import init_chat_model\n",
    "\n",
    "llm = init_chat_model(\"azure_openai:gpt-4o\", temperature=0.0)\n",
    "\n",
    "system_message = f\"\"\"\n",
    "You have access to an API to help answer user queries.\n",
    "Here is documentation on the API:\n",
    "{api_spec}\n",
    "\"\"\"\n",
    "\n",
    "agent_executor = create_react_agent(llm, tools, prompt=system_message)"
   ]
  },
  {
   "cell_type": "code",
   "execution_count": 6,
   "id": "a9c7042d",
   "metadata": {},
   "outputs": [
    {
     "name": "stdout",
     "output_type": "stream",
     "text": [
      "================================\u001b[1m Human Message \u001b[0m=================================\n",
      "\n",
      "Fetch the top two posts. What are their titles?\n",
      "==================================\u001b[1m Ai Message \u001b[0m==================================\n",
      "Tool Calls:\n",
      "  requests_get (call_B8kexOKoAIicC0QvYWZz5Gyp)\n",
      " Call ID: call_B8kexOKoAIicC0QvYWZz5Gyp\n",
      "  Args:\n",
      "    url: https://jsonplaceholder.typicode.com/posts?_limit=2\n",
      "=================================\u001b[1m Tool Message \u001b[0m=================================\n",
      "Name: requests_get\n",
      "\n",
      "[\n",
      "  {\n",
      "    \"userId\": 1,\n",
      "    \"id\": 1,\n",
      "    \"title\": \"sunt aut facere repellat provident occaecati excepturi optio reprehenderit\",\n",
      "    \"body\": \"quia et suscipit\\nsuscipit recusandae consequuntur expedita et cum\\nreprehenderit molestiae ut ut quas totam\\nnostrum rerum est autem sunt rem eveniet architecto\"\n",
      "  },\n",
      "  {\n",
      "    \"userId\": 1,\n",
      "    \"id\": 2,\n",
      "    \"title\": \"qui est esse\",\n",
      "    \"body\": \"est rerum tempore vitae\\nsequi sint nihil reprehenderit dolor beatae ea dolores neque\\nfugiat blanditiis voluptate porro vel nihil molestiae ut reiciendis\\nqui aperiam non debitis possimus qui neque nisi nulla\"\n",
      "  }\n",
      "]\n",
      "==================================\u001b[1m Ai Message \u001b[0m==================================\n",
      "\n",
      "The titles of the top two posts are:\n",
      "\n",
      "1. \"sunt aut facere repellat provident occaecati excepturi optio reprehenderit\"\n",
      "2. \"qui est esse\"\n"
     ]
    }
   ],
   "source": [
    "example_query = \"Fetch the top two posts. What are their titles?\"\n",
    "\n",
    "events = agent_executor.stream(\n",
    "    {\"messages\": [(\"user\", example_query)]},\n",
    "    stream_mode=\"values\",\n",
    ")\n",
    "for event in events:\n",
    "    event[\"messages\"][-1].pretty_print()"
   ]
  }
 ],
 "metadata": {
  "kernelspec": {
   "display_name": "langchain-test",
   "language": "python",
   "name": "python3"
  },
  "language_info": {
   "codemirror_mode": {
    "name": "ipython",
    "version": 3
   },
   "file_extension": ".py",
   "mimetype": "text/x-python",
   "name": "python",
   "nbconvert_exporter": "python",
   "pygments_lexer": "ipython3",
   "version": "3.13.5"
  }
 },
 "nbformat": 4,
 "nbformat_minor": 5
}
