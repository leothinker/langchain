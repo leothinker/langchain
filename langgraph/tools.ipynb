{
 "cells": [
  {
   "cell_type": "code",
   "execution_count": null,
   "id": "90453d3f",
   "metadata": {},
   "outputs": [],
   "source": [
    "from langchain_core.tools import tool\n",
    "\n",
    "\n",
    "@tool\n",
    "def multiply(a: int, b: int) -> int:\n",
    "    \"\"\"Multiply two numbers.\"\"\"\n",
    "    return a * b"
   ]
  },
  {
   "cell_type": "code",
   "execution_count": null,
   "id": "465a231d",
   "metadata": {},
   "outputs": [],
   "source": [
    "multiply.invoke({\"a\": 2, \"b\": 3})"
   ]
  },
  {
   "cell_type": "code",
   "execution_count": null,
   "id": "65e352dc",
   "metadata": {},
   "outputs": [],
   "source": [
    "print(multiply.name)  # multiply\n",
    "print(multiply.description)  # Multiply two numbers.\n",
    "print(multiply.args)\n",
    "# {\n",
    "# 'type': 'object',\n",
    "# 'properties': {'a': {'type': 'integer'}, 'b': {'type': 'integer'}},\n",
    "# 'required': ['a', 'b']\n",
    "# }"
   ]
  },
  {
   "cell_type": "code",
   "execution_count": null,
   "id": "8a772ab8",
   "metadata": {},
   "outputs": [],
   "source": [
    "@tool(response_format=\"content_and_artifact\")\n",
    "def some_tool(...) -> Tuple[str, Any]:\n",
    "    \"\"\"Tool that does something.\"\"\"\n",
    "    ...\n",
    "    return 'Message for chat model', some_artifact"
   ]
  },
  {
   "cell_type": "code",
   "execution_count": null,
   "id": "8a307388",
   "metadata": {},
   "outputs": [],
   "source": [
    "from langchain_core.tools import tool, InjectedToolArg\n",
    "\n",
    "\n",
    "@tool\n",
    "def user_specific_tool(input_data: str, user_id: InjectedToolArg) -> str:\n",
    "    \"\"\"Tool that processes input data.\"\"\"\n",
    "    return f\"User {user_id} processed {input_data}\""
   ]
  },
  {
   "cell_type": "code",
   "execution_count": null,
   "id": "70cda536",
   "metadata": {},
   "outputs": [],
   "source": [
    "from langchain_core.runnables import RunnableConfig\n",
    "\n",
    "@tool\n",
    "async def some_func(..., config: RunnableConfig) -> ...:\n",
    "    \"\"\"Tool that does something.\"\"\"\n",
    "    # do something with config\n",
    "    ...\n",
    "\n",
    "await some_func.ainvoke(..., config={\"configurable\": {\"value\": \"some_value\"}})"
   ]
  },
  {
   "cell_type": "code",
   "execution_count": null,
   "id": "f14b8b8a",
   "metadata": {},
   "outputs": [],
   "source": [
    "# Initialize a toolkit\n",
    "toolkit = ExampleToolkit(...)\n",
    "\n",
    "# Get list of tools\n",
    "tools = toolkit.get_tools()"
   ]
  }
 ],
 "metadata": {
  "language_info": {
   "name": "python"
  }
 },
 "nbformat": 4,
 "nbformat_minor": 5
}
