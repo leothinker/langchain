{
 "cells": [
  {
   "cell_type": "code",
   "execution_count": null,
   "id": "6c0aec7d",
   "metadata": {},
   "outputs": [],
   "source": [
    "%%capture --no-stderr\n",
    "%pip install --quiet -U langgraph langchain_anthropic"
   ]
  },
  {
   "cell_type": "code",
   "execution_count": null,
   "id": "56f9b543",
   "metadata": {},
   "outputs": [],
   "source": [
    "import getpass\n",
    "import os\n",
    "\n",
    "\n",
    "def _set_env(var: str):\n",
    "    if not os.environ.get(var):\n",
    "        os.environ[var] = getpass.getpass(f\"{var}: \")\n",
    "\n",
    "\n",
    "_set_env(\"ANTHROPIC_API_KEY\")"
   ]
  },
  {
   "cell_type": "code",
   "execution_count": null,
   "id": "4441e1e3",
   "metadata": {},
   "outputs": [],
   "source": [
    "import uuid\n",
    "\n",
    "from langchain.chat_models import init_chat_model\n",
    "from langgraph.checkpoint.memory import InMemorySaver\n",
    "from langgraph.graph import END, START, StateGraph\n",
    "from typing_extensions import NotRequired, TypedDict\n",
    "\n",
    "\n",
    "class State(TypedDict):\n",
    "    topic: NotRequired[str]\n",
    "    joke: NotRequired[str]\n",
    "\n",
    "\n",
    "llm = init_chat_model(\n",
    "    \"anthropic:claude-3-7-sonnet-latest\",\n",
    "    temperature=0,\n",
    ")\n",
    "\n",
    "\n",
    "def generate_topic(state: State):\n",
    "    \"\"\"LLM call to generate a topic for the joke\"\"\"\n",
    "    msg = llm.invoke(\"Give me a funny topic for a joke\")\n",
    "    return {\"topic\": msg.content}\n",
    "\n",
    "\n",
    "def write_joke(state: State):\n",
    "    \"\"\"LLM call to write a joke based on the topic\"\"\"\n",
    "    msg = llm.invoke(f\"Write a short joke about {state['topic']}\")\n",
    "    return {\"joke\": msg.content}\n",
    "\n",
    "\n",
    "# Build workflow\n",
    "workflow = StateGraph(State)\n",
    "\n",
    "# Add nodes\n",
    "workflow.add_node(\"generate_topic\", generate_topic)\n",
    "workflow.add_node(\"write_joke\", write_joke)\n",
    "\n",
    "# Add edges to connect nodes\n",
    "workflow.add_edge(START, \"generate_topic\")\n",
    "workflow.add_edge(\"generate_topic\", \"write_joke\")\n",
    "workflow.add_edge(\"write_joke\", END)\n",
    "\n",
    "# Compile\n",
    "checkpointer = InMemorySaver()\n",
    "graph = workflow.compile(checkpointer=checkpointer)\n",
    "graph"
   ]
  },
  {
   "cell_type": "code",
   "execution_count": null,
   "id": "43e8fb64",
   "metadata": {},
   "outputs": [],
   "source": [
    "config = {\n",
    "    \"configurable\": {\n",
    "        \"thread_id\": uuid.uuid4(),\n",
    "    }\n",
    "}\n",
    "state = graph.invoke({}, config)\n",
    "\n",
    "print(state[\"topic\"])\n",
    "print()\n",
    "print(state[\"joke\"])"
   ]
  },
  {
   "cell_type": "code",
   "execution_count": null,
   "id": "f03280b7",
   "metadata": {},
   "outputs": [],
   "source": [
    "# The states are returned in reverse chronological order.\n",
    "states = list(graph.get_state_history(config))\n",
    "\n",
    "for state in states:\n",
    "    print(state.next)\n",
    "    print(state.config[\"configurable\"][\"checkpoint_id\"])\n",
    "    print()"
   ]
  },
  {
   "cell_type": "code",
   "execution_count": null,
   "id": "c29586c8",
   "metadata": {},
   "outputs": [],
   "source": [
    "# This is the state before last (states are listed in chronological order)\n",
    "selected_state = states[1]\n",
    "print(selected_state.next)\n",
    "print(selected_state.values)"
   ]
  },
  {
   "cell_type": "code",
   "execution_count": null,
   "id": "a7401294",
   "metadata": {},
   "outputs": [],
   "source": [
    "new_config = graph.update_state(selected_state.config, values={\"topic\": \"chickens\"})\n",
    "print(new_config)"
   ]
  },
  {
   "cell_type": "code",
   "execution_count": null,
   "id": "29b598c4",
   "metadata": {},
   "outputs": [],
   "source": [
    "graph.invoke(None, new_config)"
   ]
  }
 ],
 "metadata": {
  "kernelspec": {
   "display_name": "langgraph-test",
   "language": "python",
   "name": "python3"
  },
  "language_info": {
   "codemirror_mode": {
    "name": "ipython",
    "version": 3
   },
   "file_extension": ".py",
   "mimetype": "text/x-python",
   "name": "python",
   "nbconvert_exporter": "python",
   "pygments_lexer": "ipython3",
   "version": "3.13.5"
  }
 },
 "nbformat": 4,
 "nbformat_minor": 5
}
