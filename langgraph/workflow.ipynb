{
 "cells": [
  {
   "cell_type": "code",
   "execution_count": null,
   "id": "ee78e7ee",
   "metadata": {},
   "outputs": [],
   "source": [
    "from langgraph_sdk import get_sync_client\n",
    "\n",
    "client = get_sync_client(url=\"http://127.0.0.1:2024\")\n",
    "\n",
    "# Using the graph deployed with the name \"agent\"\n",
    "assistant_id = \"agent\"\n",
    "\n",
    "# create a thread\n",
    "thread = client.threads.create()\n",
    "thread_id = thread[\"thread_id\"]\n",
    "\n",
    "# Run the graph\n",
    "result = client.runs.stream(\n",
    "    thread_id,\n",
    "    assistant_id,\n",
    "    input={\"messages\": [(\"user\", \"你好？\")]},\n",
    "    stream_subgraphs=True,\n",
    "    multitask_strategy=\"reject\",\n",
    ")"
   ]
  },
  {
   "cell_type": "code",
   "execution_count": null,
   "id": "71f68604",
   "metadata": {},
   "outputs": [],
   "source": [
    "for i in result:\n",
    "    print(i)"
   ]
  },
  {
   "cell_type": "code",
   "execution_count": null,
   "id": "388ae9fa",
   "metadata": {},
   "outputs": [],
   "source": [
    "result = client.runs.stream(\n",
    "    thread_id,\n",
    "    assistant_id,\n",
    "    input={\"messages\": [(\"user\", \"where can i find the best bagel?\")]},\n",
    "    stream_subgraphs=True,\n",
    "    multitask_strategy=\"reject\",\n",
    ")"
   ]
  },
  {
   "cell_type": "code",
   "execution_count": null,
   "id": "254de5ba",
   "metadata": {},
   "outputs": [],
   "source": [
    "for i in result:\n",
    "    print(i)"
   ]
  },
  {
   "cell_type": "code",
   "execution_count": null,
   "id": "cd8793d8",
   "metadata": {},
   "outputs": [],
   "source": [
    "# The states are returned in reverse chronological order.\n",
    "states = client.threads.get_history(thread_id)\n",
    "for s in states:\n",
    "    print(s[\"checkpoint_id\"])"
   ]
  },
  {
   "cell_type": "code",
   "execution_count": null,
   "id": "2bed8818",
   "metadata": {},
   "outputs": [],
   "source": [
    "for m in states[0][\"values\"][\"messages\"]:\n",
    "    print(m)"
   ]
  },
  {
   "cell_type": "code",
   "execution_count": null,
   "id": "c07ecd76",
   "metadata": {},
   "outputs": [],
   "source": [
    "for s in states:\n",
    "    print(s[\"values\"][\"messages\"])"
   ]
  },
  {
   "cell_type": "code",
   "execution_count": null,
   "id": "0884475f",
   "metadata": {},
   "outputs": [],
   "source": [
    "message_id = \"39346737-a9ae-4256-98a8-1cece84df24d\"\n",
    "\n",
    "for s in states:\n",
    "    if s[\"values\"][\"messages\"][-1][\"id\"] == message_id:\n",
    "        print(s[\"checkpoint_id\"])\n",
    "        selected_state = s"
   ]
  },
  {
   "cell_type": "code",
   "execution_count": null,
   "id": "e5ab5cff",
   "metadata": {},
   "outputs": [],
   "source": [
    "selected_state[\"checkpoint_id\"]"
   ]
  },
  {
   "cell_type": "code",
   "execution_count": null,
   "id": "112fbeca",
   "metadata": {},
   "outputs": [],
   "source": [
    "selected_state = next(s for s in states if s[\"values\"][\"messages\"][-1][\"id\"] == message_id)\n",
    "selected_state[\"checkpoint_id\"]"
   ]
  },
  {
   "cell_type": "code",
   "execution_count": null,
   "id": "b6dbb1cf",
   "metadata": {},
   "outputs": [],
   "source": [
    "from langchain_core.messages import RemoveMessage\n",
    "\n",
    "new_config = client.threads.update_state(\n",
    "    thread_id,\n",
    "    {\"messages\": [RemoveMessage(message_id)]},\n",
    "    checkpoint_id=selected_state[\"checkpoint_id\"],\n",
    ")\n",
    "print(new_config)"
   ]
  },
  {
   "cell_type": "code",
   "execution_count": null,
   "id": "50e50d5c",
   "metadata": {},
   "outputs": [],
   "source": [
    "new_config = client.threads.update_state(\n",
    "    thread_id, {\"messages\": \"chickens\"}, checkpoint_id=new_config[\"checkpoint_id\"]\n",
    ")\n",
    "print(new_config)"
   ]
  },
  {
   "cell_type": "code",
   "execution_count": null,
   "id": "21eebdf3",
   "metadata": {},
   "outputs": [],
   "source": [
    "result = client.runs.wait(\n",
    "    thread_id,\n",
    "    assistant_id,\n",
    "    input=None,\n",
    "    checkpoint_id=new_config[\"checkpoint_id\"],\n",
    ")"
   ]
  },
  {
   "cell_type": "code",
   "execution_count": null,
   "id": "ad65cbad",
   "metadata": {},
   "outputs": [],
   "source": [
    "for s in result[\"messages\"]:\n",
    "    print(s[\"type\"], s[\"content\"])"
   ]
  },
  {
   "cell_type": "code",
   "execution_count": null,
   "id": "b50e4d88",
   "metadata": {},
   "outputs": [],
   "source": [
    "test_0 = {\n",
    "    \"values\": {\n",
    "        \"topic\": 'How about this: \"Why do cows have hooves instead of feet?\"',\n",
    "        \"joke\": \"Why do cows have hooves instead of feet? Because they lactose!\",\n",
    "    },\n",
    "    \"next\": [],\n",
    "    \"tasks\": [],\n",
    "    \"metadata\": {\n",
    "        \"user-agent\": \"langgraph-sdk-py/0.1.72\",\n",
    "        \"x-request-id\": \"aa96d577-9d6f-493f-bd67-2b2f77e8dd51\",\n",
    "        \"langgraph_auth_user\": None,\n",
    "        \"langgraph_auth_user_id\": \"\",\n",
    "        \"langgraph_auth_permissions\": [],\n",
    "        \"langgraph_request_id\": \"aa96d577-9d6f-493f-bd67-2b2f77e8dd51\",\n",
    "        \"graph_id\": \"agent\",\n",
    "        \"assistant_id\": \"fe096781-5601-53d2-b2f6-0d3403f7e9ca\",\n",
    "        \"user_id\": \"\",\n",
    "        \"created_by\": \"system\",\n",
    "        \"run_attempt\": 1,\n",
    "        \"langgraph_version\": \"0.5.1\",\n",
    "        \"langgraph_api_version\": \"0.2.78\",\n",
    "        \"langgraph_plan\": \"developer\",\n",
    "        \"langgraph_host\": \"self-hosted\",\n",
    "        \"langgraph_api_url\": \"http://127.0.0.1:2024\",\n",
    "        \"run_id\": \"1f05b8de-8db9-6847-95ac-bb87dd8c0446\",\n",
    "        \"thread_id\": \"43381dc3-6ae5-4eee-82f8-d869f77a2676\",\n",
    "        \"source\": \"loop\",\n",
    "        \"step\": 2,\n",
    "        \"parents\": {},\n",
    "    },\n",
    "    \"created_at\": \"2025-07-07T23:55:53.242621+00:00\",\n",
    "    \"checkpoint\": {\n",
    "        \"checkpoint_id\": \"1f05b8de-a91d-601a-8002-15197e533c2d\",\n",
    "        \"thread_id\": \"43381dc3-6ae5-4eee-82f8-d869f77a2676\",\n",
    "        \"checkpoint_ns\": \"\",\n",
    "    },\n",
    "    \"parent_checkpoint\": {\n",
    "        \"checkpoint_id\": \"1f05b8de-a43f-6bc0-8001-34dd2121ec54\",\n",
    "        \"thread_id\": \"43381dc3-6ae5-4eee-82f8-d869f77a2676\",\n",
    "        \"checkpoint_ns\": \"\",\n",
    "    },\n",
    "    \"checkpoint_id\": \"1f05b8de-a91d-601a-8002-15197e533c2d\",\n",
    "    \"parent_checkpoint_id\": \"1f05b8de-a43f-6bc0-8001-34dd2121ec54\",\n",
    "}"
   ]
  },
  {
   "cell_type": "code",
   "execution_count": null,
   "id": "61149813",
   "metadata": {},
   "outputs": [],
   "source": [
    "test_1 = {\n",
    "    \"values\": {\"topic\": 'How about this: \"Why do cows have hooves instead of feet?\"'},\n",
    "    \"next\": [\"write_joke\"],\n",
    "    \"tasks\": [\n",
    "        {\n",
    "            \"id\": \"f33d8f91-e535-eda5-6cb7-a5191fba9fed\",\n",
    "            \"name\": \"write_joke\",\n",
    "            \"path\": [\"__pregel_pull\", \"write_joke\"],\n",
    "            \"error\": None,\n",
    "            \"interrupts\": [],\n",
    "            \"checkpoint\": None,\n",
    "            \"state\": None,\n",
    "            \"result\": {\"joke\": \"Why do cows have hooves instead of feet? Because they lactose!\"},\n",
    "        }\n",
    "    ],\n",
    "    \"metadata\": {\n",
    "        \"user-agent\": \"langgraph-sdk-py/0.1.72\",\n",
    "        \"x-request-id\": \"aa96d577-9d6f-493f-bd67-2b2f77e8dd51\",\n",
    "        \"langgraph_auth_user\": None,\n",
    "        \"langgraph_auth_user_id\": \"\",\n",
    "        \"langgraph_auth_permissions\": [],\n",
    "        \"langgraph_request_id\": \"aa96d577-9d6f-493f-bd67-2b2f77e8dd51\",\n",
    "        \"graph_id\": \"agent\",\n",
    "        \"assistant_id\": \"fe096781-5601-53d2-b2f6-0d3403f7e9ca\",\n",
    "        \"user_id\": \"\",\n",
    "        \"created_by\": \"system\",\n",
    "        \"run_attempt\": 1,\n",
    "        \"langgraph_version\": \"0.5.1\",\n",
    "        \"langgraph_api_version\": \"0.2.78\",\n",
    "        \"langgraph_plan\": \"developer\",\n",
    "        \"langgraph_host\": \"self-hosted\",\n",
    "        \"langgraph_api_url\": \"http://127.0.0.1:2024\",\n",
    "        \"run_id\": \"1f05b8de-8db9-6847-95ac-bb87dd8c0446\",\n",
    "        \"thread_id\": \"43381dc3-6ae5-4eee-82f8-d869f77a2676\",\n",
    "        \"source\": \"loop\",\n",
    "        \"step\": 1,\n",
    "        \"parents\": {},\n",
    "    },\n",
    "    \"created_at\": \"2025-07-07T23:55:52.732557+00:00\",\n",
    "    \"checkpoint\": {\n",
    "        \"checkpoint_id\": \"1f05b8de-a43f-6bc0-8001-34dd2121ec54\",\n",
    "        \"thread_id\": \"43381dc3-6ae5-4eee-82f8-d869f77a2676\",\n",
    "        \"checkpoint_ns\": \"\",\n",
    "    },\n",
    "    \"parent_checkpoint\": {\n",
    "        \"checkpoint_id\": \"1f05b8de-970e-6775-8000-108345c911de\",\n",
    "        \"thread_id\": \"43381dc3-6ae5-4eee-82f8-d869f77a2676\",\n",
    "        \"checkpoint_ns\": \"\",\n",
    "    },\n",
    "    \"checkpoint_id\": \"1f05b8de-a43f-6bc0-8001-34dd2121ec54\",\n",
    "    \"parent_checkpoint_id\": \"1f05b8de-970e-6775-8000-108345c911de\",\n",
    "}"
   ]
  },
  {
   "cell_type": "code",
   "execution_count": null,
   "id": "41d200bb",
   "metadata": {},
   "outputs": [],
   "source": [
    "test_2 = {\n",
    "    \"values\": {},\n",
    "    \"next\": [\"generate_topic\"],\n",
    "    \"tasks\": [\n",
    "        {\n",
    "            \"id\": \"983b4417-2020-f3ef-bb90-e331471b49af\",\n",
    "            \"name\": \"generate_topic\",\n",
    "            \"path\": [\"__pregel_pull\", \"generate_topic\"],\n",
    "            \"error\": None,\n",
    "            \"interrupts\": [],\n",
    "            \"checkpoint\": None,\n",
    "            \"state\": None,\n",
    "            \"result\": {\"topic\": 'How about this: \"Why do cows have hooves instead of feet?\"'},\n",
    "        }\n",
    "    ],\n",
    "    \"metadata\": {\n",
    "        \"user-agent\": \"langgraph-sdk-py/0.1.72\",\n",
    "        \"x-request-id\": \"aa96d577-9d6f-493f-bd67-2b2f77e8dd51\",\n",
    "        \"langgraph_auth_user\": None,\n",
    "        \"langgraph_auth_user_id\": \"\",\n",
    "        \"langgraph_auth_permissions\": [],\n",
    "        \"langgraph_request_id\": \"aa96d577-9d6f-493f-bd67-2b2f77e8dd51\",\n",
    "        \"graph_id\": \"agent\",\n",
    "        \"assistant_id\": \"fe096781-5601-53d2-b2f6-0d3403f7e9ca\",\n",
    "        \"user_id\": \"\",\n",
    "        \"created_by\": \"system\",\n",
    "        \"run_attempt\": 1,\n",
    "        \"langgraph_version\": \"0.5.1\",\n",
    "        \"langgraph_api_version\": \"0.2.78\",\n",
    "        \"langgraph_plan\": \"developer\",\n",
    "        \"langgraph_host\": \"self-hosted\",\n",
    "        \"langgraph_api_url\": \"http://127.0.0.1:2024\",\n",
    "        \"run_id\": \"1f05b8de-8db9-6847-95ac-bb87dd8c0446\",\n",
    "        \"thread_id\": \"43381dc3-6ae5-4eee-82f8-d869f77a2676\",\n",
    "        \"source\": \"loop\",\n",
    "        \"step\": 0,\n",
    "        \"parents\": {},\n",
    "    },\n",
    "    \"created_at\": \"2025-07-07T23:55:51.349230+00:00\",\n",
    "    \"checkpoint\": {\n",
    "        \"checkpoint_id\": \"1f05b8de-970e-6775-8000-108345c911de\",\n",
    "        \"thread_id\": \"43381dc3-6ae5-4eee-82f8-d869f77a2676\",\n",
    "        \"checkpoint_ns\": \"\",\n",
    "    },\n",
    "    \"parent_checkpoint\": {\n",
    "        \"checkpoint_id\": \"1f05b8de-970d-6949-bfff-e42ad61be150\",\n",
    "        \"thread_id\": \"43381dc3-6ae5-4eee-82f8-d869f77a2676\",\n",
    "        \"checkpoint_ns\": \"\",\n",
    "    },\n",
    "    \"checkpoint_id\": \"1f05b8de-970e-6775-8000-108345c911de\",\n",
    "    \"parent_checkpoint_id\": \"1f05b8de-970d-6949-bfff-e42ad61be150\",\n",
    "}"
   ]
  },
  {
   "cell_type": "code",
   "execution_count": null,
   "id": "6f7f66d4",
   "metadata": {},
   "outputs": [],
   "source": [
    "test_3 = {\n",
    "    \"values\": {},\n",
    "    \"next\": [\"__start__\"],\n",
    "    \"tasks\": [\n",
    "        {\n",
    "            \"id\": \"5ccff2bb-9c6f-e30b-7e4a-3e40544807e7\",\n",
    "            \"name\": \"__start__\",\n",
    "            \"path\": [\"__pregel_pull\", \"__start__\"],\n",
    "            \"error\": None,\n",
    "            \"interrupts\": [],\n",
    "            \"checkpoint\": None,\n",
    "            \"state\": None,\n",
    "            \"result\": {},\n",
    "        }\n",
    "    ],\n",
    "    \"metadata\": {\n",
    "        \"user-agent\": \"langgraph-sdk-py/0.1.72\",\n",
    "        \"x-request-id\": \"aa96d577-9d6f-493f-bd67-2b2f77e8dd51\",\n",
    "        \"langgraph_auth_user\": None,\n",
    "        \"langgraph_auth_user_id\": \"\",\n",
    "        \"langgraph_auth_permissions\": [],\n",
    "        \"langgraph_request_id\": \"aa96d577-9d6f-493f-bd67-2b2f77e8dd51\",\n",
    "        \"graph_id\": \"agent\",\n",
    "        \"assistant_id\": \"fe096781-5601-53d2-b2f6-0d3403f7e9ca\",\n",
    "        \"user_id\": \"\",\n",
    "        \"created_by\": \"system\",\n",
    "        \"run_attempt\": 1,\n",
    "        \"langgraph_version\": \"0.5.1\",\n",
    "        \"langgraph_api_version\": \"0.2.78\",\n",
    "        \"langgraph_plan\": \"developer\",\n",
    "        \"langgraph_host\": \"self-hosted\",\n",
    "        \"langgraph_api_url\": \"http://127.0.0.1:2024\",\n",
    "        \"run_id\": \"1f05b8de-8db9-6847-95ac-bb87dd8c0446\",\n",
    "        \"thread_id\": \"43381dc3-6ae5-4eee-82f8-d869f77a2676\",\n",
    "        \"source\": \"input\",\n",
    "        \"step\": -1,\n",
    "        \"parents\": {},\n",
    "    },\n",
    "    \"created_at\": \"2025-07-07T23:55:51.348867+00:00\",\n",
    "    \"checkpoint\": {\n",
    "        \"checkpoint_id\": \"1f05b8de-970d-6949-bfff-e42ad61be150\",\n",
    "        \"thread_id\": \"43381dc3-6ae5-4eee-82f8-d869f77a2676\",\n",
    "        \"checkpoint_ns\": \"\",\n",
    "    },\n",
    "    \"parent_checkpoint\": None,\n",
    "    \"checkpoint_id\": \"1f05b8de-970d-6949-bfff-e42ad61be150\",\n",
    "    \"parent_checkpoint_id\": None,\n",
    "}"
   ]
  },
  {
   "cell_type": "code",
   "execution_count": null,
   "id": "2513fb89",
   "metadata": {},
   "outputs": [],
   "source": [
    "new_config = await client.threads.update_state(\n",
    "    thread_id, {\"topic\": \"chickens\"}, checkpoint_id=selected_state[\"checkpoint_id\"]\n",
    ")\n",
    "print(new_config)"
   ]
  },
  {
   "cell_type": "code",
   "execution_count": null,
   "id": "4c155a53",
   "metadata": {},
   "outputs": [],
   "source": [
    "new_config = {\n",
    "    \"checkpoint\": {\n",
    "        \"thread_id\": \"43381dc3-6ae5-4eee-82f8-d869f77a2676\",\n",
    "        \"checkpoint_ns\": \"\",\n",
    "        \"checkpoint_id\": \"1f05b8e7-3185-6e6f-8002-16e285691498\",\n",
    "    },\n",
    "    \"configurable\": {\n",
    "        \"thread_id\": \"43381dc3-6ae5-4eee-82f8-d869f77a2676\",\n",
    "        \"checkpoint_ns\": \"\",\n",
    "        \"checkpoint_id\": \"1f05b8e7-3185-6e6f-8002-16e285691498\",\n",
    "    },\n",
    "    \"checkpoint_id\": \"1f05b8e7-3185-6e6f-8002-16e285691498\",\n",
    "}"
   ]
  },
  {
   "cell_type": "code",
   "execution_count": null,
   "id": "570d7f0c",
   "metadata": {},
   "outputs": [],
   "source": [
    "await client.runs.wait(\n",
    "    thread_id, assistant_id, input=None, checkpoint_id=new_config[\"checkpoint_id\"]\n",
    ")"
   ]
  },
  {
   "cell_type": "code",
   "execution_count": null,
   "id": "5147dbc2",
   "metadata": {},
   "outputs": [],
   "source": [
    "states = await client.threads.get_history(thread_id)\n",
    "for s in states:\n",
    "    print(s[\"values\"])"
   ]
  }
 ],
 "metadata": {
  "kernelspec": {
   "display_name": "react-agent",
   "language": "python",
   "name": "python3"
  },
  "language_info": {
   "codemirror_mode": {
    "name": "ipython",
    "version": 3
   },
   "file_extension": ".py",
   "mimetype": "text/x-python",
   "name": "python",
   "nbconvert_exporter": "python",
   "pygments_lexer": "ipython3",
   "version": "3.13.5"
  }
 },
 "nbformat": 4,
 "nbformat_minor": 5
}
