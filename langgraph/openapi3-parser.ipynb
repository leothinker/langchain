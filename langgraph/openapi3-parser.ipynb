{
 "cells": [
  {
   "cell_type": "code",
   "execution_count": 1,
   "id": "1ce19928",
   "metadata": {},
   "outputs": [
    {
     "name": "stderr",
     "output_type": "stream",
     "text": [
      "Implicit type assignment: schema does not contain 'type' property\n",
      "Implicit type assignment: schema does not contain 'type' property\n"
     ]
    },
    {
     "name": "stdout",
     "output_type": "stream",
     "text": [
      "Application servers\n",
      "None - https://api.apis.guru/v2\n"
     ]
    }
   ],
   "source": [
    "from openapi_parser import parse\n",
    "\n",
    "specification = parse(\"apisguru_openapi.yaml\")\n",
    "\n",
    "print(\"Application servers\")\n",
    "\n",
    "for server in specification.servers:\n",
    "    print(f\"{server.description} - {server.url}\")\n",
    "\n",
    "# Output\n",
    "#\n",
    "# >> Application servers\n",
    "# >> production - https://users.app\n",
    "# >> staging - http://stage.users.app\n",
    "# >> development - http://users.local"
   ]
  },
  {
   "cell_type": "code",
   "execution_count": 2,
   "id": "7b1f2b97",
   "metadata": {},
   "outputs": [
    {
     "name": "stdout",
     "output_type": "stream",
     "text": [
      "['/providers.json', '/{provider}.json', '/{provider}/services.json', '/specs/{provider}/{api}.json', '/specs/{provider}/{service}/{api}.json', '/list.json', '/metrics.json']\n"
     ]
    }
   ],
   "source": [
    "urls = [x.url for x in specification.paths]\n",
    "\n",
    "print(urls)\n",
    "\n",
    "# Output\n",
    "#\n",
    "# >> ['/users', '/users/{uuid}']"
   ]
  },
  {
   "cell_type": "code",
   "execution_count": 5,
   "id": "dd97c661",
   "metadata": {},
   "outputs": [
    {
     "name": "stdout",
     "output_type": "stream",
     "text": [
      "Operation: /providers.json, methods: get\n",
      "Operation: /{provider}.json, methods: get\n",
      "Operation: /{provider}/services.json, methods: get\n",
      "Operation: /specs/{provider}/{api}.json, methods: get\n",
      "Operation: /specs/{provider}/{service}/{api}.json, methods: get\n",
      "Operation: /list.json, methods: get\n",
      "Operation: /metrics.json, methods: get\n"
     ]
    }
   ],
   "source": [
    "for path in specification.paths:\n",
    "    supported_methods = \",\".join([x.method.value for x in path.operations])\n",
    "\n",
    "    print(f\"Operation: {path.url}, methods: {supported_methods}\")\n",
    "\n",
    "# Output\n",
    "#\n",
    "# >> Operation: /users, methods: get,post\n",
    "# >> Operation: /users/{uuid}, methods: get,put"
   ]
  },
  {
   "cell_type": "code",
   "execution_count": 11,
   "id": "ce652b24",
   "metadata": {},
   "outputs": [
    {
     "name": "stdout",
     "output_type": "stream",
     "text": [
      "Operation(method=<OperationMethod.GET: 'get'>, responses=[Response(is_default=False, description='OK', code=200, content=[Content(type=<ContentType.JSON: 'application/json'>, schema=Object(type=<DataType.OBJECT: 'object'>, title=None, enum=[], example=None, description=None, default=None, nullable=False, read_only=False, write_only=False, deprecated=False, extensions={}, max_properties=None, min_properties=None, required=[], properties=[Property(name='data', schema=Array(type=<DataType.ARRAY: 'array'>, title=None, enum=[], example=None, description=None, default=None, nullable=False, read_only=False, write_only=False, deprecated=False, extensions={}, max_items=None, min_items=1, unique_items=None, items=String(type=<DataType.STRING: 'string'>, title=None, enum=[], example=None, description=None, default=None, nullable=False, read_only=False, write_only=False, deprecated=False, extensions={}, max_length=None, min_length=1, pattern=None, format=None)))]), example=None, examples={})], headers=[])], summary='List all providers', description='List all the providers in the directory\\n', operation_id='getProviders', external_docs=None, request_body=None, deprecated=False, parameters=[], tags=['APIs'], security=[], extensions={})\n",
      "Operation(method=<OperationMethod.GET: 'get'>, responses=[Response(is_default=False, description='OK', code=200, content=[Content(type=<ContentType.JSON: 'application/json'>, schema=Object(type=<DataType.OBJECT: 'object'>, title=None, enum=[], example={'googleapis.com:drive': {'added': datetime.datetime(2015, 2, 22, 20, 0, 45, tzinfo=datetime.timezone(datetime.timedelta(0), 'Z')), 'preferred': 'v3', 'versions': {'v2': {'added': datetime.datetime(2015, 2, 22, 20, 0, 45, tzinfo=datetime.timezone(datetime.timedelta(0), 'Z')), 'info': {'title': 'Drive', 'version': 'v2', 'x-apiClientRegistration': {'url': 'https://console.developers.google.com'}, 'x-logo': {'url': 'https://api.apis.guru/v2/cache/logo/https_www.gstatic.com_images_icons_material_product_2x_drive_32dp.png'}, 'x-origin': {'format': 'google', 'url': 'https://www.googleapis.com/discovery/v1/apis/drive/v2/rest', 'version': 'v1'}, 'x-preferred': False, 'x-providerName': 'googleapis.com', 'x-serviceName': 'drive'}, 'swaggerUrl': 'https://api.apis.guru/v2/specs/googleapis.com/drive/v2/swagger.json', 'swaggerYamlUrl': 'https://api.apis.guru/v2/specs/googleapis.com/drive/v2/swagger.yaml', 'updated': datetime.datetime(2016, 6, 17, 0, 21, 44, tzinfo=datetime.timezone(datetime.timedelta(0), 'Z'))}, 'v3': {'added': datetime.datetime(2015, 12, 12, 0, 25, 13, tzinfo=datetime.timezone(datetime.timedelta(0), 'Z')), 'info': {'title': 'Drive', 'version': 'v3', 'x-apiClientRegistration': {'url': 'https://console.developers.google.com'}, 'x-logo': {'url': 'https://api.apis.guru/v2/cache/logo/https_www.gstatic.com_images_icons_material_product_2x_drive_32dp.png'}, 'x-origin': {'format': 'google', 'url': 'https://www.googleapis.com/discovery/v1/apis/drive/v3/rest', 'version': 'v1'}, 'x-preferred': True, 'x-providerName': 'googleapis.com', 'x-serviceName': 'drive'}, 'swaggerUrl': 'https://api.apis.guru/v2/specs/googleapis.com/drive/v3/swagger.json', 'swaggerYamlUrl': 'https://api.apis.guru/v2/specs/googleapis.com/drive/v3/swagger.yaml', 'updated': datetime.datetime(2016, 6, 17, 0, 21, 44, tzinfo=datetime.timezone(datetime.timedelta(0), 'Z'))}}}}, description='List of API details.\\nIt is a JSON object with API IDs(`<provider>[:<service>]`) as keys.\\n', default=None, nullable=False, read_only=False, write_only=False, deprecated=False, extensions={}, max_properties=None, min_properties=1, required=[], properties=[]), example=None, examples={})], headers=[])], summary='List all APIs for a particular provider', description='List all APIs in the directory for a particular providerName\\nReturns links to the individual API entry for each API.\\n', operation_id='getProvider', external_docs=None, request_body=None, deprecated=False, parameters=[Parameter(name='provider', location=<ParameterLocation.PATH: 'path'>, schema=String(type=<DataType.STRING: 'string'>, title=None, enum=[], example='apis.guru', description=None, default=None, nullable=False, read_only=False, write_only=False, deprecated=False, extensions={}, max_length=255, min_length=1, pattern=None, format=None), content=None, required=True, description=None, deprecated=False, style=<PathParameterStyle.SIMPLE: 'simple'>, explode=False, extensions={})], tags=['APIs'], security=[], extensions={})\n",
      "Operation(method=<OperationMethod.GET: 'get'>, responses=[Response(is_default=False, description='OK', code=200, content=[Content(type=<ContentType.JSON: 'application/json'>, schema=Object(type=<DataType.OBJECT: 'object'>, title=None, enum=[], example=None, description=None, default=None, nullable=False, read_only=False, write_only=False, deprecated=False, extensions={}, max_properties=None, min_properties=None, required=[], properties=[Property(name='data', schema=Array(type=<DataType.ARRAY: 'array'>, title=None, enum=[], example=None, description=None, default=None, nullable=False, read_only=False, write_only=False, deprecated=False, extensions={}, max_items=None, min_items=1, unique_items=None, items=String(type=<DataType.STRING: 'string'>, title=None, enum=[], example=None, description=None, default=None, nullable=False, read_only=False, write_only=False, deprecated=False, extensions={}, max_length=None, min_length=0, pattern=None, format=None)))]), example=None, examples={})], headers=[])], summary='List all serviceNames for a particular provider', description='List all serviceNames in the directory for a particular providerName\\n', operation_id='getServices', external_docs=None, request_body=None, deprecated=False, parameters=[Parameter(name='provider', location=<ParameterLocation.PATH: 'path'>, schema=String(type=<DataType.STRING: 'string'>, title=None, enum=[], example='apis.guru', description=None, default=None, nullable=False, read_only=False, write_only=False, deprecated=False, extensions={}, max_length=255, min_length=1, pattern=None, format=None), content=None, required=True, description=None, deprecated=False, style=<PathParameterStyle.SIMPLE: 'simple'>, explode=False, extensions={})], tags=['APIs'], security=[], extensions={})\n",
      "Operation(method=<OperationMethod.GET: 'get'>, responses=[Response(is_default=False, description='OK', code=200, content=[Content(type=<ContentType.JSON: 'application/json'>, schema=Object(type=<DataType.OBJECT: 'object'>, title=None, enum=[], example=None, description='Meta information about API', default=None, nullable=False, read_only=False, write_only=False, deprecated=False, extensions={}, max_properties=None, min_properties=None, required=['added', 'preferred', 'versions'], properties=[Property(name='added', schema=String(type=<DataType.STRING: 'string'>, title=None, enum=[], example=None, description='Timestamp when the API was first added to the directory', default=None, nullable=False, read_only=False, write_only=False, deprecated=False, extensions={}, max_length=None, min_length=None, pattern=None, format=<StringFormat.DATETIME: 'date-time'>)), Property(name='preferred', schema=String(type=<DataType.STRING: 'string'>, title=None, enum=[], example=None, description='Recommended version', default=None, nullable=False, read_only=False, write_only=False, deprecated=False, extensions={}, max_length=None, min_length=None, pattern=None, format=None)), Property(name='versions', schema=Object(type=<DataType.OBJECT: 'object'>, title=None, enum=[], example=None, description='List of supported versions of the API', default=None, nullable=False, read_only=False, write_only=False, deprecated=False, extensions={}, max_properties=None, min_properties=1, required=[], properties=[]))]), example=None, examples={})], headers=[])], summary='Retrieve one version of a particular API', description='Returns the API entry for one specific version of an API where there is no serviceName.', operation_id='getAPI', external_docs=None, request_body=None, deprecated=False, parameters=[Parameter(name='provider', location=<ParameterLocation.PATH: 'path'>, schema=String(type=<DataType.STRING: 'string'>, title=None, enum=[], example='apis.guru', description=None, default=None, nullable=False, read_only=False, write_only=False, deprecated=False, extensions={}, max_length=255, min_length=1, pattern=None, format=None), content=None, required=True, description=None, deprecated=False, style=<PathParameterStyle.SIMPLE: 'simple'>, explode=False, extensions={}), Parameter(name='api', location=<ParameterLocation.PATH: 'path'>, schema=String(type=<DataType.STRING: 'string'>, title=None, enum=[], example='2.1.0', description=None, default=None, nullable=False, read_only=False, write_only=False, deprecated=False, extensions={}, max_length=255, min_length=1, pattern=None, format=None), content=None, required=True, description=None, deprecated=False, style=<PathParameterStyle.SIMPLE: 'simple'>, explode=False, extensions={})], tags=['APIs'], security=[], extensions={})\n",
      "Operation(method=<OperationMethod.GET: 'get'>, responses=[Response(is_default=False, description='OK', code=200, content=[Content(type=<ContentType.JSON: 'application/json'>, schema=Object(type=<DataType.OBJECT: 'object'>, title=None, enum=[], example=None, description='Meta information about API', default=None, nullable=False, read_only=False, write_only=False, deprecated=False, extensions={}, max_properties=None, min_properties=None, required=['added', 'preferred', 'versions'], properties=[Property(name='added', schema=String(type=<DataType.STRING: 'string'>, title=None, enum=[], example=None, description='Timestamp when the API was first added to the directory', default=None, nullable=False, read_only=False, write_only=False, deprecated=False, extensions={}, max_length=None, min_length=None, pattern=None, format=<StringFormat.DATETIME: 'date-time'>)), Property(name='preferred', schema=String(type=<DataType.STRING: 'string'>, title=None, enum=[], example=None, description='Recommended version', default=None, nullable=False, read_only=False, write_only=False, deprecated=False, extensions={}, max_length=None, min_length=None, pattern=None, format=None)), Property(name='versions', schema=Object(type=<DataType.OBJECT: 'object'>, title=None, enum=[], example=None, description='List of supported versions of the API', default=None, nullable=False, read_only=False, write_only=False, deprecated=False, extensions={}, max_properties=None, min_properties=1, required=[], properties=[]))]), example=None, examples={})], headers=[])], summary='Retrieve one version of a particular API with a serviceName.', description='Returns the API entry for one specific version of an API where there is a serviceName.', operation_id='getServiceAPI', external_docs=None, request_body=None, deprecated=False, parameters=[Parameter(name='provider', location=<ParameterLocation.PATH: 'path'>, schema=String(type=<DataType.STRING: 'string'>, title=None, enum=[], example='apis.guru', description=None, default=None, nullable=False, read_only=False, write_only=False, deprecated=False, extensions={}, max_length=255, min_length=1, pattern=None, format=None), content=None, required=True, description=None, deprecated=False, style=<PathParameterStyle.SIMPLE: 'simple'>, explode=False, extensions={}), Parameter(name='service', location=<ParameterLocation.PATH: 'path'>, schema=String(type=<DataType.STRING: 'string'>, title=None, enum=[], example='graph', description=None, default=None, nullable=False, read_only=False, write_only=False, deprecated=False, extensions={}, max_length=255, min_length=1, pattern=None, format=None), content=None, required=True, description=None, deprecated=False, style=<PathParameterStyle.SIMPLE: 'simple'>, explode=False, extensions={}), Parameter(name='api', location=<ParameterLocation.PATH: 'path'>, schema=String(type=<DataType.STRING: 'string'>, title=None, enum=[], example='2.1.0', description=None, default=None, nullable=False, read_only=False, write_only=False, deprecated=False, extensions={}, max_length=255, min_length=1, pattern=None, format=None), content=None, required=True, description=None, deprecated=False, style=<PathParameterStyle.SIMPLE: 'simple'>, explode=False, extensions={})], tags=['APIs'], security=[], extensions={})\n",
      "Operation(method=<OperationMethod.GET: 'get'>, responses=[Response(is_default=False, description='OK', code=200, content=[Content(type=<ContentType.JSON: 'application/json'>, schema=Object(type=<DataType.OBJECT: 'object'>, title=None, enum=[], example={'googleapis.com:drive': {'added': datetime.datetime(2015, 2, 22, 20, 0, 45, tzinfo=datetime.timezone(datetime.timedelta(0), 'Z')), 'preferred': 'v3', 'versions': {'v2': {'added': datetime.datetime(2015, 2, 22, 20, 0, 45, tzinfo=datetime.timezone(datetime.timedelta(0), 'Z')), 'info': {'title': 'Drive', 'version': 'v2', 'x-apiClientRegistration': {'url': 'https://console.developers.google.com'}, 'x-logo': {'url': 'https://api.apis.guru/v2/cache/logo/https_www.gstatic.com_images_icons_material_product_2x_drive_32dp.png'}, 'x-origin': {'format': 'google', 'url': 'https://www.googleapis.com/discovery/v1/apis/drive/v2/rest', 'version': 'v1'}, 'x-preferred': False, 'x-providerName': 'googleapis.com', 'x-serviceName': 'drive'}, 'swaggerUrl': 'https://api.apis.guru/v2/specs/googleapis.com/drive/v2/swagger.json', 'swaggerYamlUrl': 'https://api.apis.guru/v2/specs/googleapis.com/drive/v2/swagger.yaml', 'updated': datetime.datetime(2016, 6, 17, 0, 21, 44, tzinfo=datetime.timezone(datetime.timedelta(0), 'Z'))}, 'v3': {'added': datetime.datetime(2015, 12, 12, 0, 25, 13, tzinfo=datetime.timezone(datetime.timedelta(0), 'Z')), 'info': {'title': 'Drive', 'version': 'v3', 'x-apiClientRegistration': {'url': 'https://console.developers.google.com'}, 'x-logo': {'url': 'https://api.apis.guru/v2/cache/logo/https_www.gstatic.com_images_icons_material_product_2x_drive_32dp.png'}, 'x-origin': {'format': 'google', 'url': 'https://www.googleapis.com/discovery/v1/apis/drive/v3/rest', 'version': 'v1'}, 'x-preferred': True, 'x-providerName': 'googleapis.com', 'x-serviceName': 'drive'}, 'swaggerUrl': 'https://api.apis.guru/v2/specs/googleapis.com/drive/v3/swagger.json', 'swaggerYamlUrl': 'https://api.apis.guru/v2/specs/googleapis.com/drive/v3/swagger.yaml', 'updated': datetime.datetime(2016, 6, 17, 0, 21, 44, tzinfo=datetime.timezone(datetime.timedelta(0), 'Z'))}}}}, description='List of API details.\\nIt is a JSON object with API IDs(`<provider>[:<service>]`) as keys.\\n', default=None, nullable=False, read_only=False, write_only=False, deprecated=False, extensions={}, max_properties=None, min_properties=1, required=[], properties=[]), example=None, examples={})], headers=[])], summary='List all APIs', description='List all APIs in the directory.\\nReturns links to the OpenAPI definitions for each API in the directory.\\nIf API exist in multiple versions `preferred` one is explicitly marked.\\nSome basic info from the OpenAPI definition is cached inside each object.\\nThis allows you to generate some simple views without needing to fetch the OpenAPI definition for each API.\\n', operation_id='listAPIs', external_docs=None, request_body=None, deprecated=False, parameters=[], tags=['APIs'], security=[], extensions={})\n",
      "Operation(method=<OperationMethod.GET: 'get'>, responses=[Response(is_default=False, description='OK', code=200, content=[Content(type=<ContentType.JSON: 'application/json'>, schema=Object(type=<DataType.OBJECT: 'object'>, title=None, enum=[], example={'numAPIs': 2501, 'numEndpoints': 106448, 'numSpecs': 3329, 'unreachable': 123, 'invalid': 598, 'unofficial': 25, 'fixes': 81119, 'fixedPct': 22, 'datasets': [], 'stars': 2429, 'issues': 28, 'thisWeek': {'added': 45, 'updated': 171}, 'numDrivers': 10, 'numProviders': 659}, description='List of basic metrics', default=None, nullable=False, read_only=False, write_only=False, deprecated=False, extensions={}, max_properties=None, min_properties=None, required=['numSpecs', 'numAPIs', 'numEndpoints'], properties=[Property(name='numSpecs', schema=Integer(type=<DataType.INTEGER: 'integer'>, title=None, enum=[], example=None, description='Number of API definitions including different versions of the same API', default=None, nullable=False, read_only=False, write_only=False, deprecated=False, extensions={}, multiple_of=None, maximum=None, exclusive_maximum=None, minimum=1, exclusive_minimum=None, format=None)), Property(name='numAPIs', schema=Integer(type=<DataType.INTEGER: 'integer'>, title=None, enum=[], example=None, description='Number of unique APIs', default=None, nullable=False, read_only=False, write_only=False, deprecated=False, extensions={}, multiple_of=None, maximum=None, exclusive_maximum=None, minimum=1, exclusive_minimum=None, format=None)), Property(name='numEndpoints', schema=Integer(type=<DataType.INTEGER: 'integer'>, title=None, enum=[], example=None, description='Total number of endpoints inside all definitions', default=None, nullable=False, read_only=False, write_only=False, deprecated=False, extensions={}, multiple_of=None, maximum=None, exclusive_maximum=None, minimum=1, exclusive_minimum=None, format=None)), Property(name='unreachable', schema=Integer(type=<DataType.INTEGER: 'integer'>, title=None, enum=[], example=None, description='Number of unreachable (4XX,5XX status) APIs', default=None, nullable=False, read_only=False, write_only=False, deprecated=False, extensions={}, multiple_of=None, maximum=None, exclusive_maximum=None, minimum=None, exclusive_minimum=None, format=None)), Property(name='invalid', schema=Integer(type=<DataType.INTEGER: 'integer'>, title=None, enum=[], example=None, description='Number of newly invalid APIs', default=None, nullable=False, read_only=False, write_only=False, deprecated=False, extensions={}, multiple_of=None, maximum=None, exclusive_maximum=None, minimum=None, exclusive_minimum=None, format=None)), Property(name='unofficial', schema=Integer(type=<DataType.INTEGER: 'integer'>, title=None, enum=[], example=None, description='Number of unofficial APIs', default=None, nullable=False, read_only=False, write_only=False, deprecated=False, extensions={}, multiple_of=None, maximum=None, exclusive_maximum=None, minimum=None, exclusive_minimum=None, format=None)), Property(name='fixes', schema=Integer(type=<DataType.INTEGER: 'integer'>, title=None, enum=[], example=None, description='Total number of fixes applied across all APIs', default=None, nullable=False, read_only=False, write_only=False, deprecated=False, extensions={}, multiple_of=None, maximum=None, exclusive_maximum=None, minimum=None, exclusive_minimum=None, format=None)), Property(name='fixedPct', schema=Integer(type=<DataType.INTEGER: 'integer'>, title=None, enum=[], example=None, description='Percentage of all APIs where auto fixes have been applied', default=None, nullable=False, read_only=False, write_only=False, deprecated=False, extensions={}, multiple_of=None, maximum=None, exclusive_maximum=None, minimum=None, exclusive_minimum=None, format=None)), Property(name='datasets', schema=Array(type=<DataType.ARRAY: 'array'>, title=None, enum=[], example=None, description='Data used for charting etc', default=None, nullable=False, read_only=False, write_only=False, deprecated=False, extensions={}, max_items=None, min_items=None, unique_items=None, items=AnyOf(type=<DataType.ANY_OF: 'anyOf'>, title=None, enum=[], example=None, description=None, default=None, nullable=False, read_only=False, write_only=False, deprecated=False, extensions={}, schemas=[Integer(type=<DataType.INTEGER: 'integer'>, title=None, enum=[], example=None, description=None, default=None, nullable=False, read_only=False, write_only=False, deprecated=False, extensions={}, multiple_of=None, maximum=None, exclusive_maximum=None, minimum=None, exclusive_minimum=None, format=None), Number(type=<DataType.NUMBER: 'number'>, title=None, enum=[], example=None, description=None, default=None, nullable=False, read_only=False, write_only=False, deprecated=False, extensions={}, multiple_of=None, maximum=None, exclusive_maximum=None, minimum=None, exclusive_minimum=None, format=None), String(type=<DataType.STRING: 'string'>, title=None, enum=[], example=None, description=None, default=None, nullable=False, read_only=False, write_only=False, deprecated=False, extensions={}, max_length=None, min_length=None, pattern=None, format=None), Boolean(type=<DataType.BOOLEAN: 'boolean'>, title=None, enum=[], example=None, description=None, default=None, nullable=False, read_only=False, write_only=False, deprecated=False, extensions={}), Array(type=<DataType.ARRAY: 'array'>, title=None, enum=[], example=None, description=None, default=None, nullable=False, read_only=False, write_only=False, deprecated=False, extensions={}, max_items=None, min_items=None, unique_items=None, items=None), Object(type=<DataType.OBJECT: 'object'>, title=None, enum=[], example=None, description=None, default=None, nullable=False, read_only=False, write_only=False, deprecated=False, extensions={}, max_properties=None, min_properties=None, required=[], properties=[])]))), Property(name='stars', schema=Integer(type=<DataType.INTEGER: 'integer'>, title=None, enum=[], example=None, description='GitHub stars for our main repo', default=None, nullable=False, read_only=False, write_only=False, deprecated=False, extensions={}, multiple_of=None, maximum=None, exclusive_maximum=None, minimum=None, exclusive_minimum=None, format=None)), Property(name='issues', schema=Integer(type=<DataType.INTEGER: 'integer'>, title=None, enum=[], example=None, description='Open GitHub issues on our main repo', default=None, nullable=False, read_only=False, write_only=False, deprecated=False, extensions={}, multiple_of=None, maximum=None, exclusive_maximum=None, minimum=None, exclusive_minimum=None, format=None)), Property(name='thisWeek', schema=Object(type=<DataType.OBJECT: 'object'>, title=None, enum=[], example=None, description='Summary totals for the last 7 days', default=None, nullable=False, read_only=False, write_only=False, deprecated=False, extensions={}, max_properties=None, min_properties=None, required=[], properties=[Property(name='added', schema=Integer(type=<DataType.INTEGER: 'integer'>, title=None, enum=[], example=None, description='APIs added in the last week', default=None, nullable=False, read_only=False, write_only=False, deprecated=False, extensions={}, multiple_of=None, maximum=None, exclusive_maximum=None, minimum=None, exclusive_minimum=None, format=None)), Property(name='updated', schema=Integer(type=<DataType.INTEGER: 'integer'>, title=None, enum=[], example=None, description='APIs updated in the last week', default=None, nullable=False, read_only=False, write_only=False, deprecated=False, extensions={}, multiple_of=None, maximum=None, exclusive_maximum=None, minimum=None, exclusive_minimum=None, format=None))])), Property(name='numDrivers', schema=Integer(type=<DataType.INTEGER: 'integer'>, title=None, enum=[], example=None, description='Number of methods of API retrieval', default=None, nullable=False, read_only=False, write_only=False, deprecated=False, extensions={}, multiple_of=None, maximum=None, exclusive_maximum=None, minimum=None, exclusive_minimum=None, format=None)), Property(name='numProviders', schema=Integer(type=<DataType.INTEGER: 'integer'>, title=None, enum=[], example=None, description='Number of API providers in directory', default=None, nullable=False, read_only=False, write_only=False, deprecated=False, extensions={}, multiple_of=None, maximum=None, exclusive_maximum=None, minimum=None, exclusive_minimum=None, format=None))]), example=None, examples={})], headers=[])], summary='Get basic metrics', description='Some basic metrics for the entire directory.\\nJust stunning numbers to put on a front page and are intended purely for WoW effect :)\\n', operation_id='getMetrics', external_docs=None, request_body=None, deprecated=False, parameters=[], tags=['APIs'], security=[], extensions={})\n"
     ]
    }
   ],
   "source": [
    "for path in specification.paths:\n",
    "    for x in path.operations:\n",
    "        print(x)"
   ]
  }
 ],
 "metadata": {
  "kernelspec": {
   "display_name": "langgraph-test",
   "language": "python",
   "name": "python3"
  },
  "language_info": {
   "codemirror_mode": {
    "name": "ipython",
    "version": 3
   },
   "file_extension": ".py",
   "mimetype": "text/x-python",
   "name": "python",
   "nbconvert_exporter": "python",
   "pygments_lexer": "ipython3",
   "version": "3.13.5"
  }
 },
 "nbformat": 4,
 "nbformat_minor": 5
}
