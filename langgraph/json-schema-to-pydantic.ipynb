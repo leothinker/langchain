{
 "cells": [
  {
   "cell_type": "code",
   "execution_count": 1,
   "id": "863c946b",
   "metadata": {},
   "outputs": [],
   "source": [
    "from json_schema_to_pydantic import create_model\n",
    "\n",
    "# Define your JSON Schema\n",
    "schema = {\n",
    "    \"title\": \"User\",\n",
    "    \"type\": \"object\",\n",
    "    \"properties\": {\n",
    "        \"name\": {\"type\": \"string\"},\n",
    "        \"email\": {\"type\": \"string\", \"format\": \"email\"},\n",
    "        \"age\": {\"type\": \"integer\", \"minimum\": 0},\n",
    "    },\n",
    "    \"required\": [\"name\", \"email\"],\n",
    "}\n",
    "\n",
    "# Generate your Pydantic model\n",
    "UserModel = create_model(schema)\n",
    "\n",
    "# Use the model\n",
    "user = UserModel(name=\"John Doe\", email=\"john@example.com\", age=30)\n",
    "\n",
    "# Example with relaxed array item validation\n",
    "RelaxedModel = create_model(\n",
    "    {\"type\": \"object\", \"properties\": {\"tags\": {\"type\": \"array\"}}}, allow_undefined_array_items=True\n",
    ")\n",
    "relaxed_instance = RelaxedModel(tags=[1, \"two\", True])"
   ]
  },
  {
   "cell_type": "code",
   "execution_count": 22,
   "id": "0b5ce4af",
   "metadata": {},
   "outputs": [
    {
     "data": {
      "text/plain": [
       "{'description': 'Meta information about API',\n",
       " 'type': 'object',\n",
       " 'required': ['added', 'preferred', 'versions'],\n",
       " 'properties': {'added': {'description': 'Timestamp when the API was first added to the directory',\n",
       "   'type': 'string',\n",
       "   'format': 'date-time'},\n",
       "  'preferred': {'description': 'Recommended version', 'type': 'string'},\n",
       "  'versions': {'description': 'List of supported versions of the API',\n",
       "   'type': 'object',\n",
       "   'additionalProperties': {'$ref': '#/components/schemas/ApiVersion'},\n",
       "   'minProperties': 1}},\n",
       " 'additionalProperties': False}"
      ]
     },
     "execution_count": 22,
     "metadata": {},
     "output_type": "execute_result"
    }
   ],
   "source": [
    "import yaml\n",
    "\n",
    "with open(\"apisguru_openapi.yaml\") as f:\n",
    "    raw_apisguru_api_spec = yaml.load(f, Loader=yaml.Loader)\n",
    "raw_apisguru_api_spec"
   ]
  },
  {
   "cell_type": "code",
   "execution_count": 19,
   "id": "2a742cab",
   "metadata": {},
   "outputs": [
    {
     "data": {
      "text/plain": [
       "{'added': datetime.datetime(2023, 5, 1, 0, 0, tzinfo=TzInfo(UTC)),\n",
       " 'preferred': '0.1',\n",
       " 'versions': {}}"
      ]
     },
     "execution_count": 19,
     "metadata": {},
     "output_type": "execute_result"
    }
   ],
   "source": [
    "APIsModel = create_model(raw_apisguru_api_spec[\"components\"][\"schemas\"][\"API\"])\n",
    "test = APIsModel(added=\"2023-05-01T00:00:00Z\", preferred=\"0.1\", versions={})\n",
    "test.model_dump()"
   ]
  }
 ],
 "metadata": {
  "kernelspec": {
   "display_name": "langgraph-test",
   "language": "python",
   "name": "python3"
  },
  "language_info": {
   "codemirror_mode": {
    "name": "ipython",
    "version": 3
   },
   "file_extension": ".py",
   "mimetype": "text/x-python",
   "name": "python",
   "nbconvert_exporter": "python",
   "pygments_lexer": "ipython3",
   "version": "3.13.5"
  }
 },
 "nbformat": 4,
 "nbformat_minor": 5
}
