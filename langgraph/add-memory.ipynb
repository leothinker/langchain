{
 "cells": [
  {
   "cell_type": "code",
   "execution_count": null,
   "id": "3894bf71",
   "metadata": {},
   "outputs": [
    {
     "data": {
      "image/png": "[encoded data removed]",
      "text/plain": [
       "<langgraph.graph.state.CompiledStateGraph object at 0x000002C9A5146900>"
      ]
     },
     "execution_count": 1,
     "metadata": {},
     "output_type": "execute_result"
    }
   ],
   "source": [
    "from langchain.chat_models import init_chat_model\n",
    "from langchain_core.messages.utils import count_tokens_approximately, trim_messages\n",
    "from langgraph.checkpoint.memory import InMemorySaver\n",
    "from langgraph.graph import START, MessagesState, StateGraph\n",
    "\n",
    "model = init_chat_model(\"azure_openai:gpt-4o\")\n",
    "summarization_model = model.bind(max_tokens=128)\n",
    "\n",
    "\n",
    "def call_model(state: MessagesState):\n",
    "    messages = trim_messages(\n",
    "        state[\"messages\"],\n",
    "        strategy=\"last\",\n",
    "        token_counter=count_tokens_approximately,\n",
    "        max_tokens=128,\n",
    "        start_on=\"human\",\n",
    "        end_on=(\"human\", \"tool\"),\n",
    "    )\n",
    "    response = model.invoke(messages)\n",
    "    return {\"messages\": [response]}\n",
    "\n",
    "\n",
    "checkpointer = InMemorySaver()\n",
    "builder = StateGraph(MessagesState)\n",
    "builder.add_node(call_model)\n",
    "builder.add_edge(START, \"call_model\")\n",
    "graph = builder.compile(checkpointer=checkpointer)\n",
    "graph"
   ]
  },
  {
   "cell_type": "code",
   "execution_count": null,
   "id": "8abedcd0",
   "metadata": {},
   "outputs": [],
   "source": []
  },
  {
   "cell_type": "code",
   "execution_count": 5,
   "id": "3a846e49",
   "metadata": {},
   "outputs": [
    {
     "name": "stdout",
     "output_type": "stream",
     "text": [
      "==================================\u001b[1m Ai Message \u001b[0m==================================\n",
      "\n",
      "I'm sorry, but I don't have access to personal information about individuals unless you share it with me during our conversation. If you'd like to share your name or have any other questions, feel free to let me know!\n"
     ]
    }
   ],
   "source": [
    "config = {\"configurable\": {\"thread_id\": \"1\"}}\n",
    "graph.invoke({\"messages\": \"hi, my name is bob\"}, config)\n",
    "graph.invoke({\"messages\": \"write a short poem about cats\"}, config)\n",
    "graph.invoke({\"messages\": \"now do the same but for dogs\"}, config)\n",
    "final_response = graph.invoke({\"messages\": \"what's my name?\"}, config)\n",
    "\n",
    "final_response[\"messages\"][-1].pretty_print()"
   ]
  },
  {
   "cell_type": "code",
   "execution_count": 3,
   "id": "9413fd73",
   "metadata": {},
   "outputs": [
    {
     "data": {
      "text/plain": [
       "[HumanMessage(content='hi, my name is bob', additional_kwargs={}, response_metadata={}, id='e8d9ced8-be26-4011-b171-6e083c12205a'),\n",
       " AIMessage(content='Hi Bob! How can I assist you today?', additional_kwargs={'refusal': None}, response_metadata={'token_usage': {'completion_tokens': 11, 'prompt_tokens': 13, 'total_tokens': 24, 'completion_tokens_details': {'accepted_prediction_tokens': 0, 'audio_tokens': 0, 'reasoning_tokens': 0, 'rejected_prediction_tokens': 0}, 'prompt_tokens_details': {'audio_tokens': 0, 'cached_tokens': 0}}, 'model_name': 'gpt-4o-2024-08-06', 'system_fingerprint': 'fp_ee1d74bde0', 'id': 'chatcmpl-BpXBUIXZlE6FRi6dD02qvDmlTl8jS', 'service_tier': None, 'prompt_filter_results': [{'prompt_index': 0, 'content_filter_results': {'hate': {'filtered': False, 'severity': 'safe'}, 'jailbreak': {'filtered': False, 'detected': False}, 'self_harm': {'filtered': False, 'severity': 'safe'}, 'sexual': {'filtered': False, 'severity': 'safe'}, 'violence': {'filtered': False, 'severity': 'safe'}}}], 'finish_reason': 'stop', 'logprobs': None, 'content_filter_results': {'hate': {'filtered': False, 'severity': 'safe'}, 'protected_material_code': {'filtered': False, 'detected': False}, 'protected_material_text': {'filtered': False, 'detected': False}, 'self_harm': {'filtered': False, 'severity': 'safe'}, 'sexual': {'filtered': False, 'severity': 'safe'}, 'violence': {'filtered': False, 'severity': 'safe'}}}, id='run--7cbdddf8-08e0-4bf4-8f33-885a65ca2120-0', usage_metadata={'input_tokens': 13, 'output_tokens': 11, 'total_tokens': 24, 'input_token_details': {'audio': 0, 'cache_read': 0}, 'output_token_details': {'audio': 0, 'reasoning': 0}}),\n",
       " HumanMessage(content='write a short poem about cats', additional_kwargs={}, response_metadata={}, id='2277ec82-cada-47f6-a630-e3e85bec4fc6'),\n",
       " AIMessage(content=\"In a sunbeam's gentle glow they lie,  \\nWhiskers twitch as dreams drift by.  \\nVelvet paws on silent floors,  \\nMysterious eyes with ageless lore.  \\n\\nIn moonlit nights they softly tread,  \\nChasing shadows, dreams ahead.  \\nWith purring lullabies they weave,  \\nA spell of calm we can't conceive.  \\n\\nGraceful hunters, playful friends,   \\nIn their company, joy never ends.  \\nIn every pounce and secret glance,  \\nCats ensnare us in their dance.  \", additional_kwargs={'refusal': None}, response_metadata={'token_usage': {'completion_tokens': 111, 'prompt_tokens': 37, 'total_tokens': 148, 'completion_tokens_details': {'accepted_prediction_tokens': 0, 'audio_tokens': 0, 'reasoning_tokens': 0, 'rejected_prediction_tokens': 0}, 'prompt_tokens_details': {'audio_tokens': 0, 'cached_tokens': 0}}, 'model_name': 'gpt-4o-2024-08-06', 'system_fingerprint': 'fp_ee1d74bde0', 'id': 'chatcmpl-BpXBUHhwQqCEPBd60AZeiCrclCgyE', 'service_tier': None, 'prompt_filter_results': [{'prompt_index': 0, 'content_filter_results': {'hate': {'filtered': False, 'severity': 'safe'}, 'jailbreak': {'filtered': False, 'detected': False}, 'self_harm': {'filtered': False, 'severity': 'safe'}, 'sexual': {'filtered': False, 'severity': 'safe'}, 'violence': {'filtered': False, 'severity': 'safe'}}}], 'finish_reason': 'stop', 'logprobs': None, 'content_filter_results': {'hate': {'filtered': False, 'severity': 'safe'}, 'protected_material_code': {'filtered': False, 'detected': False}, 'protected_material_text': {'filtered': False, 'detected': False}, 'self_harm': {'filtered': False, 'severity': 'safe'}, 'sexual': {'filtered': False, 'severity': 'safe'}, 'violence': {'filtered': False, 'severity': 'safe'}}}, id='run--1dbc1967-4362-42a9-bb92-ee7e804e32a2-0', usage_metadata={'input_tokens': 37, 'output_tokens': 111, 'total_tokens': 148, 'input_token_details': {'audio': 0, 'cache_read': 0}, 'output_token_details': {'audio': 0, 'reasoning': 0}}),\n",
       " HumanMessage(content='now do the same but for dogs', additional_kwargs={}, response_metadata={}, id='4e39fefd-10f0-4232-9b2f-94f8a5b55f8e'),\n",
       " AIMessage(content=\"Certainly! Here's a guide adapted for dogs, focusing on their care, training, nutrition, and health:\\n\\n### Dog Care Guide\\n\\n#### Choosing the Right Dog\\n- **Breed Selection**: Consider size, temperament, exercise needs, and grooming requirements.\\n- **Adoption Options**: Look for dogs at local shelters, rescues, or credible breeders.\\n\\n#### Nutrition\\n- **Quality Diet**: Choose high-quality dog food that meets your dog’s nutritional needs based on age, size, and activity level.\\n- **Portion Control**: Follow feeding guidelines on the dog food package and adjust based on your dog's weight and activity. Consult your vet for advice.\\n- **Treats**: Use treats sparingly. Ensure they are healthy and account for them in your dog's daily diet.\\n\\n#### Exercise\\n- **Daily Needs**: Dogs typically require at least 30 minutes to 2 hours of physical activity per day, depending on breed and age.\\n- **Activities**: Walks, runs, playing fetch, agility courses, and swimming are great ways to keep your dog active.\\n- **Mental Stimulation**: Engage your dog with puzzle toys and training to keep their mind sharp.\\n\\n#### Training\\n- **Basic Commands**: Teach your dog essential commands like sit, stay, come, and heel.\\n- **Positive Reinforcement**: Use rewards and praise to encourage good behavior. Patience and consistency are key.\\n- **Socialization**: Expose your dog to different environments, people, and other animals to develop a well-rounded temperament.\\n\\n#### Grooming\\n- **Brushing**: Regularly brush your dog’s coat to reduce shedding and prevent matting. Frequency depends on the type of coat.\\n- **Bathing**: Bathe your dog as needed. Typically, once a month or when noticeably dirty.\\n- **Nail Trimming**: Trim nails regularly to prevent overgrowth and discomfort.\\n\\n#### Health Care\\n- **Vaccinations**: Keep your dog up-to-date with vaccinations to prevent diseases.\\n- **Regular Checkups**: Schedule annual veterinary appointments for health screenings.\\n- **Parasite Prevention**: Use flea, tick, and heartworm prevention treatments recommended by your vet.\\n\\n#### Safe Environment\\n- **Secure Space**: Ensure your home and yard are safe and secure for your dog. Remove any hazardous items.\\n- **Identification**: Use a collar with an ID tag and consider microchipping for added security.\\n\\n#### Loving Attention\\n- **Quality Time**: Spend time cuddling, playing, and bonding with your dog. They need companionship and emotional care.\\n- **Watch for Changes**: Be observant of any changes in behavior, eating habits, or energy levels, as these can indicate health issues.\\n\\nBy following these guidelines, you can ensure your dog lives a happy, healthy, and fulfilling life.\", additional_kwargs={'refusal': None}, response_metadata={'token_usage': {'completion_tokens': 575, 'prompt_tokens': 14, 'total_tokens': 589, 'completion_tokens_details': {'accepted_prediction_tokens': 0, 'audio_tokens': 0, 'reasoning_tokens': 0, 'rejected_prediction_tokens': 0}, 'prompt_tokens_details': {'audio_tokens': 0, 'cached_tokens': 0}}, 'model_name': 'gpt-4o-2024-08-06', 'system_fingerprint': 'fp_ee1d74bde0', 'id': 'chatcmpl-BpXBWWKoInDZMf3rsPEG6Xbg6XC0O', 'service_tier': None, 'prompt_filter_results': [{'prompt_index': 0, 'content_filter_results': {'hate': {'filtered': False, 'severity': 'safe'}, 'jailbreak': {'filtered': False, 'detected': False}, 'self_harm': {'filtered': False, 'severity': 'safe'}, 'sexual': {'filtered': False, 'severity': 'safe'}, 'violence': {'filtered': False, 'severity': 'safe'}}}], 'finish_reason': 'stop', 'logprobs': None, 'content_filter_results': {'hate': {'filtered': False, 'severity': 'safe'}, 'protected_material_code': {'filtered': False, 'detected': False}, 'protected_material_text': {'filtered': False, 'detected': False}, 'self_harm': {'filtered': False, 'severity': 'safe'}, 'sexual': {'filtered': False, 'severity': 'safe'}, 'violence': {'filtered': False, 'severity': 'safe'}}}, id='run--d035f2f4-52dc-4e1a-82b6-0d2c273d5bb6-0', usage_metadata={'input_tokens': 14, 'output_tokens': 575, 'total_tokens': 589, 'input_token_details': {'audio': 0, 'cache_read': 0}, 'output_token_details': {'audio': 0, 'reasoning': 0}}),\n",
       " HumanMessage(content=\"what's my name?\", additional_kwargs={}, response_metadata={}, id='6fa3b917-0921-4520-856a-89ea35338fc7'),\n",
       " AIMessage(content=\"I'm sorry, I can't determine your name from this conversation alone. Could you please tell me your name?\", additional_kwargs={'refusal': None}, response_metadata={'token_usage': {'completion_tokens': 22, 'prompt_tokens': 12, 'total_tokens': 34, 'completion_tokens_details': {'accepted_prediction_tokens': 0, 'audio_tokens': 0, 'reasoning_tokens': 0, 'rejected_prediction_tokens': 0}, 'prompt_tokens_details': {'audio_tokens': 0, 'cached_tokens': 0}}, 'model_name': 'gpt-4o-2024-08-06', 'system_fingerprint': 'fp_ee1d74bde0', 'id': 'chatcmpl-BpXBbUmaaMwd7GY06nD6SQr7RHwG8', 'service_tier': None, 'prompt_filter_results': [{'prompt_index': 0, 'content_filter_results': {'hate': {'filtered': False, 'severity': 'safe'}, 'jailbreak': {'filtered': False, 'detected': False}, 'self_harm': {'filtered': False, 'severity': 'safe'}, 'sexual': {'filtered': False, 'severity': 'safe'}, 'violence': {'filtered': False, 'severity': 'safe'}}}], 'finish_reason': 'stop', 'logprobs': None, 'content_filter_results': {'hate': {'filtered': False, 'severity': 'safe'}, 'self_harm': {'filtered': False, 'severity': 'safe'}, 'sexual': {'filtered': False, 'severity': 'safe'}, 'violence': {'filtered': False, 'severity': 'safe'}}}, id='run--305501ab-fe85-4447-8d74-56dc521ccca7-0', usage_metadata={'input_tokens': 12, 'output_tokens': 22, 'total_tokens': 34, 'input_token_details': {'audio': 0, 'cache_read': 0}, 'output_token_details': {'audio': 0, 'reasoning': 0}})]"
      ]
     },
     "execution_count": 3,
     "metadata": {},
     "output_type": "execute_result"
    }
   ],
   "source": [
    "final_response[\"messages\"]"
   ]
  },
  {
   "cell_type": "code",
   "execution_count": null,
   "id": "bb876aac",
   "metadata": {},
   "outputs": [
    {
     "name": "stdout",
     "output_type": "stream",
     "text": [
      "[('human', \"hi! I'm bob\")]\n",
      "[('human', \"hi! I'm bob\"), ('ai', 'Hello, Bob! How can I assist you today?')]\n",
      "[('human', \"hi! I'm bob\"), ('ai', 'Hello, Bob! How can I assist you today?'), ('human', \"what's my name?\")]\n",
      "[('human', \"hi! I'm bob\"), ('ai', 'Hello, Bob! How can I assist you today?'), ('human', \"what's my name?\"), ('ai', \"You mentioned that your name is Bob. If there's anything else you'd like to discuss or ask, feel free to let me know!\")]\n",
      "[('human', \"what's my name?\"), ('ai', \"You mentioned that your name is Bob. If there's anything else you'd like to discuss or ask, feel free to let me know!\")]\n"
     ]
    }
   ],
   "source": [
    "from langchain_core.messages import RemoveMessage\n",
    "\n",
    "\n",
    "def delete_messages(state):\n",
    "    messages = state[\"messages\"]\n",
    "    if len(messages) > 2:\n",
    "        # remove the earliest two messages\n",
    "        return {\"messages\": [RemoveMessage(id=m.id) for m in messages[:2]]}\n",
    "\n",
    "\n",
    "def call_model(state: MessagesState):\n",
    "    response = model.invoke(state[\"messages\"])\n",
    "    return {\"messages\": response}\n",
    "\n",
    "\n",
    "builder = StateGraph(MessagesState)\n",
    "builder.add_sequence([call_model, delete_messages])\n",
    "builder.add_edge(START, \"call_model\")\n",
    "\n",
    "checkpointer = InMemorySaver()\n",
    "app = builder.compile(checkpointer=checkpointer)\n",
    "\n",
    "for event in app.stream(\n",
    "    {\"messages\": [{\"role\": \"user\", \"content\": \"hi! I'm bob\"}]},\n",
    "    config,\n",
    "    stream_mode=\"values\",\n",
    "):\n",
    "    print([(message.type, message.content) for message in event[\"messages\"]])\n",
    "\n",
    "for event in app.stream(\n",
    "    {\"messages\": [{\"role\": \"user\", \"content\": \"what's my name?\"}]},\n",
    "    config,\n",
    "    stream_mode=\"values\",\n",
    "):\n",
    "    print([(message.type, message.content) for message in event[\"messages\"]])"
   ]
  }
 ],
 "metadata": {
  "kernelspec": {
   "display_name": "react-agent",
   "language": "python",
   "name": "python3"
  },
  "language_info": {
   "codemirror_mode": {
    "name": "ipython",
    "version": 3
   },
   "file_extension": ".py",
   "mimetype": "text/x-python",
   "name": "python",
   "nbconvert_exporter": "python",
   "pygments_lexer": "ipython3",
   "version": "3.13.5"
  }
 },
 "nbformat": 4,
 "nbformat_minor": 5
}
