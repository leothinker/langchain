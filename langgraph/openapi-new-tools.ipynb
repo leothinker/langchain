{
 "cells": [
  {
   "cell_type": "code",
   "execution_count": 1,
   "id": "fd6270d5",
   "metadata": {},
   "outputs": [
    {
     "data": {
      "text/plain": [
       "ReducedOpenAPISpec(servers=[{'url': 'https://api.apis.guru/v2'}], description='Wikipedia for Web APIs. Repository of API definitions in OpenAPI format.\\n**Warning**: If you want to be notified about changes in advance please join our [Slack channel](https://join.slack.com/t/mermade/shared_invite/zt-g78g7xir-MLE_CTCcXCdfJfG3CJe9qA).\\nClient sample: [[Demo]](https://apis.guru/simple-ui) [[Repo]](https://github.com/APIs-guru/simple-ui)\\n', endpoints=[('GET /providers.json', 'List all the providers in the directory\\n', {'description': 'List all the providers in the directory\\n', 'responses': {'description': 'OK', 'content': {'application/json': {'schema': {'type': 'object', 'properties': {'data': {'type': 'array', 'items': {'type': 'string', 'minLength': 1}, 'minItems': 1}}}}}}}), ('GET /{provider}.json', 'List all APIs in the directory for a particular providerName\\nReturns links to the individual API entry for each API.\\n', {'description': 'List all APIs in the directory for a particular providerName\\nReturns links to the individual API entry for each API.\\n', 'parameters': [{'name': 'provider', 'in': 'path', 'required': True, 'schema': {'type': 'string', 'minLength': 1, 'maxLength': 255, 'example': 'apis.guru'}}], 'responses': {'description': 'OK', 'content': {'application/json': {'schema': {'description': 'List of API details.\\nIt is a JSON object with API IDs(`<provider>[:<service>]`) as keys.\\n', 'type': 'object', 'additionalProperties': {'description': 'Meta information about API', 'type': 'object', 'required': ['added', 'preferred', 'versions'], 'properties': {'added': {'description': 'Timestamp when the API was first added to the directory', 'type': 'string', 'format': 'date-time'}, 'preferred': {'description': 'Recommended version', 'type': 'string'}, 'versions': {'description': 'List of supported versions of the API', 'type': 'object', 'additionalProperties': {'type': 'object', 'required': ['added', 'updated', 'swaggerUrl', 'swaggerYamlUrl', 'info', 'openapiVer'], 'properties': {'added': {'description': 'Timestamp when the version was added', 'type': 'string', 'format': 'date-time'}, 'updated': {'description': 'Timestamp when the version was updated', 'type': 'string', 'format': 'date-time'}, 'swaggerUrl': {'description': 'URL to OpenAPI definition in JSON format', 'type': 'string', 'format': 'url'}, 'swaggerYamlUrl': {'description': 'URL to OpenAPI definition in YAML format', 'type': 'string', 'format': 'url'}, 'link': {'description': 'Link to the individual API entry for this API', 'type': 'string', 'format': 'url'}, 'info': {'description': 'Copy of `info` section from OpenAPI definition', 'type': 'object', 'minProperties': 1}, 'externalDocs': {'description': 'Copy of `externalDocs` section from OpenAPI definition', 'type': 'object', 'minProperties': 1}, 'openapiVer': {'description': 'The value of the `openapi` or `swagger` property of the source definition', 'type': 'string'}}, 'additionalProperties': False}, 'minProperties': 1}}, 'additionalProperties': False}, 'minProperties': 1, 'example': {'googleapis.com:drive': {'added': datetime.datetime(2015, 2, 22, 20, 0, 45, tzinfo=datetime.timezone.utc), 'preferred': 'v3', 'versions': {'v2': {'added': datetime.datetime(2015, 2, 22, 20, 0, 45, tzinfo=datetime.timezone.utc), 'info': {'title': 'Drive', 'version': 'v2', 'x-apiClientRegistration': {'url': 'https://console.developers.google.com'}, 'x-logo': {'url': 'https://api.apis.guru/v2/cache/logo/https_www.gstatic.com_images_icons_material_product_2x_drive_32dp.png'}, 'x-origin': {'format': 'google', 'url': 'https://www.googleapis.com/discovery/v1/apis/drive/v2/rest', 'version': 'v1'}, 'x-preferred': False, 'x-providerName': 'googleapis.com', 'x-serviceName': 'drive'}, 'swaggerUrl': 'https://api.apis.guru/v2/specs/googleapis.com/drive/v2/swagger.json', 'swaggerYamlUrl': 'https://api.apis.guru/v2/specs/googleapis.com/drive/v2/swagger.yaml', 'updated': datetime.datetime(2016, 6, 17, 0, 21, 44, tzinfo=datetime.timezone.utc)}, 'v3': {'added': datetime.datetime(2015, 12, 12, 0, 25, 13, tzinfo=datetime.timezone.utc), 'info': {'title': 'Drive', 'version': 'v3', 'x-apiClientRegistration': {'url': 'https://console.developers.google.com'}, 'x-logo': {'url': 'https://api.apis.guru/v2/cache/logo/https_www.gstatic.com_images_icons_material_product_2x_drive_32dp.png'}, 'x-origin': {'format': 'google', 'url': 'https://www.googleapis.com/discovery/v1/apis/drive/v3/rest', 'version': 'v1'}, 'x-preferred': True, 'x-providerName': 'googleapis.com', 'x-serviceName': 'drive'}, 'swaggerUrl': 'https://api.apis.guru/v2/specs/googleapis.com/drive/v3/swagger.json', 'swaggerYamlUrl': 'https://api.apis.guru/v2/specs/googleapis.com/drive/v3/swagger.yaml', 'updated': datetime.datetime(2016, 6, 17, 0, 21, 44, tzinfo=datetime.timezone.utc)}}}}}}}}}), ('GET /{provider}/services.json', 'List all serviceNames in the directory for a particular providerName\\n', {'description': 'List all serviceNames in the directory for a particular providerName\\n', 'parameters': [{'name': 'provider', 'in': 'path', 'required': True, 'schema': {'type': 'string', 'minLength': 1, 'maxLength': 255, 'example': 'apis.guru'}}], 'responses': {'description': 'OK', 'content': {'application/json': {'schema': {'type': 'object', 'properties': {'data': {'type': 'array', 'items': {'type': 'string', 'minLength': 0}, 'minItems': 1}}}}}}}), ('GET /specs/{provider}/{api}.json', 'Returns the API entry for one specific version of an API where there is no serviceName.', {'description': 'Returns the API entry for one specific version of an API where there is no serviceName.', 'parameters': [{'name': 'provider', 'in': 'path', 'required': True, 'schema': {'type': 'string', 'minLength': 1, 'maxLength': 255, 'example': 'apis.guru'}}, {'name': 'api', 'in': 'path', 'required': True, 'schema': {'type': 'string', 'minLength': 1, 'maxLength': 255, 'example': '2.1.0'}}], 'responses': {'description': 'OK', 'content': {'application/json': {'schema': {'description': 'Meta information about API', 'type': 'object', 'required': ['added', 'preferred', 'versions'], 'properties': {'added': {'description': 'Timestamp when the API was first added to the directory', 'type': 'string', 'format': 'date-time'}, 'preferred': {'description': 'Recommended version', 'type': 'string'}, 'versions': {'description': 'List of supported versions of the API', 'type': 'object', 'additionalProperties': {'type': 'object', 'required': ['added', 'updated', 'swaggerUrl', 'swaggerYamlUrl', 'info', 'openapiVer'], 'properties': {'added': {'description': 'Timestamp when the version was added', 'type': 'string', 'format': 'date-time'}, 'updated': {'description': 'Timestamp when the version was updated', 'type': 'string', 'format': 'date-time'}, 'swaggerUrl': {'description': 'URL to OpenAPI definition in JSON format', 'type': 'string', 'format': 'url'}, 'swaggerYamlUrl': {'description': 'URL to OpenAPI definition in YAML format', 'type': 'string', 'format': 'url'}, 'link': {'description': 'Link to the individual API entry for this API', 'type': 'string', 'format': 'url'}, 'info': {'description': 'Copy of `info` section from OpenAPI definition', 'type': 'object', 'minProperties': 1}, 'externalDocs': {'description': 'Copy of `externalDocs` section from OpenAPI definition', 'type': 'object', 'minProperties': 1}, 'openapiVer': {'description': 'The value of the `openapi` or `swagger` property of the source definition', 'type': 'string'}}, 'additionalProperties': False}, 'minProperties': 1}}, 'additionalProperties': False}}}}}), ('GET /specs/{provider}/{service}/{api}.json', 'Returns the API entry for one specific version of an API where there is a serviceName.', {'description': 'Returns the API entry for one specific version of an API where there is a serviceName.', 'parameters': [{'name': 'provider', 'in': 'path', 'required': True, 'schema': {'type': 'string', 'minLength': 1, 'maxLength': 255, 'example': 'apis.guru'}}, {'name': 'service', 'in': 'path', 'required': True, 'schema': {'type': 'string', 'minLength': 1, 'maxLength': 255, 'example': 'graph'}}, {'name': 'api', 'in': 'path', 'required': True, 'schema': {'type': 'string', 'minLength': 1, 'maxLength': 255, 'example': '2.1.0'}}], 'responses': {'description': 'OK', 'content': {'application/json': {'schema': {'description': 'Meta information about API', 'type': 'object', 'required': ['added', 'preferred', 'versions'], 'properties': {'added': {'description': 'Timestamp when the API was first added to the directory', 'type': 'string', 'format': 'date-time'}, 'preferred': {'description': 'Recommended version', 'type': 'string'}, 'versions': {'description': 'List of supported versions of the API', 'type': 'object', 'additionalProperties': {'type': 'object', 'required': ['added', 'updated', 'swaggerUrl', 'swaggerYamlUrl', 'info', 'openapiVer'], 'properties': {'added': {'description': 'Timestamp when the version was added', 'type': 'string', 'format': 'date-time'}, 'updated': {'description': 'Timestamp when the version was updated', 'type': 'string', 'format': 'date-time'}, 'swaggerUrl': {'description': 'URL to OpenAPI definition in JSON format', 'type': 'string', 'format': 'url'}, 'swaggerYamlUrl': {'description': 'URL to OpenAPI definition in YAML format', 'type': 'string', 'format': 'url'}, 'link': {'description': 'Link to the individual API entry for this API', 'type': 'string', 'format': 'url'}, 'info': {'description': 'Copy of `info` section from OpenAPI definition', 'type': 'object', 'minProperties': 1}, 'externalDocs': {'description': 'Copy of `externalDocs` section from OpenAPI definition', 'type': 'object', 'minProperties': 1}, 'openapiVer': {'description': 'The value of the `openapi` or `swagger` property of the source definition', 'type': 'string'}}, 'additionalProperties': False}, 'minProperties': 1}}, 'additionalProperties': False}}}}}), ('GET /list.json', 'List all APIs in the directory.\\nReturns links to the OpenAPI definitions for each API in the directory.\\nIf API exist in multiple versions `preferred` one is explicitly marked.\\nSome basic info from the OpenAPI definition is cached inside each object.\\nThis allows you to generate some simple views without needing to fetch the OpenAPI definition for each API.\\n', {'description': 'List all APIs in the directory.\\nReturns links to the OpenAPI definitions for each API in the directory.\\nIf API exist in multiple versions `preferred` one is explicitly marked.\\nSome basic info from the OpenAPI definition is cached inside each object.\\nThis allows you to generate some simple views without needing to fetch the OpenAPI definition for each API.\\n', 'responses': {'description': 'OK', 'content': {'application/json': {'schema': {'description': 'List of API details.\\nIt is a JSON object with API IDs(`<provider>[:<service>]`) as keys.\\n', 'type': 'object', 'additionalProperties': {'description': 'Meta information about API', 'type': 'object', 'required': ['added', 'preferred', 'versions'], 'properties': {'added': {'description': 'Timestamp when the API was first added to the directory', 'type': 'string', 'format': 'date-time'}, 'preferred': {'description': 'Recommended version', 'type': 'string'}, 'versions': {'description': 'List of supported versions of the API', 'type': 'object', 'additionalProperties': {'type': 'object', 'required': ['added', 'updated', 'swaggerUrl', 'swaggerYamlUrl', 'info', 'openapiVer'], 'properties': {'added': {'description': 'Timestamp when the version was added', 'type': 'string', 'format': 'date-time'}, 'updated': {'description': 'Timestamp when the version was updated', 'type': 'string', 'format': 'date-time'}, 'swaggerUrl': {'description': 'URL to OpenAPI definition in JSON format', 'type': 'string', 'format': 'url'}, 'swaggerYamlUrl': {'description': 'URL to OpenAPI definition in YAML format', 'type': 'string', 'format': 'url'}, 'link': {'description': 'Link to the individual API entry for this API', 'type': 'string', 'format': 'url'}, 'info': {'description': 'Copy of `info` section from OpenAPI definition', 'type': 'object', 'minProperties': 1}, 'externalDocs': {'description': 'Copy of `externalDocs` section from OpenAPI definition', 'type': 'object', 'minProperties': 1}, 'openapiVer': {'description': 'The value of the `openapi` or `swagger` property of the source definition', 'type': 'string'}}, 'additionalProperties': False}, 'minProperties': 1}}, 'additionalProperties': False}, 'minProperties': 1, 'example': {'googleapis.com:drive': {'added': datetime.datetime(2015, 2, 22, 20, 0, 45, tzinfo=datetime.timezone.utc), 'preferred': 'v3', 'versions': {'v2': {'added': datetime.datetime(2015, 2, 22, 20, 0, 45, tzinfo=datetime.timezone.utc), 'info': {'title': 'Drive', 'version': 'v2', 'x-apiClientRegistration': {'url': 'https://console.developers.google.com'}, 'x-logo': {'url': 'https://api.apis.guru/v2/cache/logo/https_www.gstatic.com_images_icons_material_product_2x_drive_32dp.png'}, 'x-origin': {'format': 'google', 'url': 'https://www.googleapis.com/discovery/v1/apis/drive/v2/rest', 'version': 'v1'}, 'x-preferred': False, 'x-providerName': 'googleapis.com', 'x-serviceName': 'drive'}, 'swaggerUrl': 'https://api.apis.guru/v2/specs/googleapis.com/drive/v2/swagger.json', 'swaggerYamlUrl': 'https://api.apis.guru/v2/specs/googleapis.com/drive/v2/swagger.yaml', 'updated': datetime.datetime(2016, 6, 17, 0, 21, 44, tzinfo=datetime.timezone.utc)}, 'v3': {'added': datetime.datetime(2015, 12, 12, 0, 25, 13, tzinfo=datetime.timezone.utc), 'info': {'title': 'Drive', 'version': 'v3', 'x-apiClientRegistration': {'url': 'https://console.developers.google.com'}, 'x-logo': {'url': 'https://api.apis.guru/v2/cache/logo/https_www.gstatic.com_images_icons_material_product_2x_drive_32dp.png'}, 'x-origin': {'format': 'google', 'url': 'https://www.googleapis.com/discovery/v1/apis/drive/v3/rest', 'version': 'v1'}, 'x-preferred': True, 'x-providerName': 'googleapis.com', 'x-serviceName': 'drive'}, 'swaggerUrl': 'https://api.apis.guru/v2/specs/googleapis.com/drive/v3/swagger.json', 'swaggerYamlUrl': 'https://api.apis.guru/v2/specs/googleapis.com/drive/v3/swagger.yaml', 'updated': datetime.datetime(2016, 6, 17, 0, 21, 44, tzinfo=datetime.timezone.utc)}}}}}}}}}), ('GET /metrics.json', 'Some basic metrics for the entire directory.\\nJust stunning numbers to put on a front page and are intended purely for WoW effect :)\\n', {'description': 'Some basic metrics for the entire directory.\\nJust stunning numbers to put on a front page and are intended purely for WoW effect :)\\n', 'responses': {'description': 'OK', 'content': {'application/json': {'schema': {'description': 'List of basic metrics', 'type': 'object', 'required': ['numSpecs', 'numAPIs', 'numEndpoints'], 'properties': {'numSpecs': {'description': 'Number of API definitions including different versions of the same API', 'type': 'integer', 'minimum': 1}, 'numAPIs': {'description': 'Number of unique APIs', 'type': 'integer', 'minimum': 1}, 'numEndpoints': {'description': 'Total number of endpoints inside all definitions', 'type': 'integer', 'minimum': 1}, 'unreachable': {'description': 'Number of unreachable (4XX,5XX status) APIs', 'type': 'integer'}, 'invalid': {'description': 'Number of newly invalid APIs', 'type': 'integer'}, 'unofficial': {'description': 'Number of unofficial APIs', 'type': 'integer'}, 'fixes': {'description': 'Total number of fixes applied across all APIs', 'type': 'integer'}, 'fixedPct': {'description': 'Percentage of all APIs where auto fixes have been applied', 'type': 'integer'}, 'datasets': {'description': 'Data used for charting etc', 'type': 'array', 'items': {}}, 'stars': {'description': 'GitHub stars for our main repo', 'type': 'integer'}, 'issues': {'description': 'Open GitHub issues on our main repo', 'type': 'integer'}, 'thisWeek': {'description': 'Summary totals for the last 7 days', 'type': 'object', 'properties': {'added': {'description': 'APIs added in the last week', 'type': 'integer'}, 'updated': {'description': 'APIs updated in the last week', 'type': 'integer'}}}, 'numDrivers': {'description': 'Number of methods of API retrieval', 'type': 'integer'}, 'numProviders': {'description': 'Number of API providers in directory', 'type': 'integer'}}, 'additionalProperties': False, 'example': {'numAPIs': 2501, 'numEndpoints': 106448, 'numSpecs': 3329, 'unreachable': 123, 'invalid': 598, 'unofficial': 25, 'fixes': 81119, 'fixedPct': 22, 'datasets': [], 'stars': 2429, 'issues': 28, 'thisWeek': {'added': 45, 'updated': 171}, 'numDrivers': 10, 'numProviders': 659}}}}}})])"
      ]
     },
     "execution_count": 1,
     "metadata": {},
     "output_type": "execute_result"
    }
   ],
   "source": [
    "import yaml\n",
    "from langchain_community.agent_toolkits.openapi.spec import reduce_openapi_spec\n",
    "\n",
    "with open(\"apisguru_openapi.yaml\") as f:\n",
    "    raw_apisguru_api_spec = yaml.load(f, Loader=yaml.Loader)\n",
    "apisguru_api_spec = reduce_openapi_spec(raw_apisguru_api_spec)\n",
    "apisguru_api_spec"
   ]
  },
  {
   "cell_type": "code",
   "execution_count": 2,
   "id": "afcc0620",
   "metadata": {},
   "outputs": [
    {
     "data": {
      "text/plain": [
       "ReducedOpenAPISpec(servers=[{'url': 'http://127.0.0.1:4000'}], description='manager movie records', endpoints=[('GET /movies', None, {'parameters': [], 'responses': {'description': 'Successful Response', 'content': {'application/json': {'schema': {'type': 'array', 'items': {'properties': {'id': {'type': 'integer', 'title': 'Id'}, 'title': {'type': 'string', 'title': 'Title'}, 'year': {'type': 'integer', 'title': 'Year'}}, 'type': 'object', 'required': ['id', 'title', 'year'], 'title': 'Movie'}, 'title': 'Response Get Movies Movies Get'}}}}}), ('POST /movies', None, {'responses': {'description': 'Successful Response', 'content': {'application/json': {'schema': {'properties': {'id': {'type': 'integer', 'title': 'Id'}, 'title': {'type': 'string', 'title': 'Title'}, 'year': {'type': 'integer', 'title': 'Year'}}, 'type': 'object', 'required': ['id', 'title', 'year'], 'title': 'Movie'}}}}, 'requestBody': {'required': True, 'content': {'application/json': {'schema': {'properties': {'id': {'type': 'integer', 'title': 'Id'}, 'title': {'type': 'string', 'title': 'Title'}, 'year': {'type': 'integer', 'title': 'Year'}}, 'type': 'object', 'required': ['title', 'year'], 'title': 'Movie'}}}}}), ('GET /movies/{id}', None, {'parameters': [{'name': 'id', 'in': 'path', 'required': True, 'schema': {'type': 'integer', 'title': 'Id'}}], 'responses': {'description': 'Successful Response', 'content': {'application/json': {'schema': {'properties': {'id': {'type': 'integer', 'title': 'Id'}, 'title': {'type': 'string', 'title': 'Title'}, 'year': {'type': 'integer', 'title': 'Year'}}, 'type': 'object', 'required': ['id', 'title', 'year'], 'title': 'Movie'}}}}}), ('GET /movies/{id}/comments/{cid}', None, {'parameters': [{'name': 'id', 'in': 'path', 'required': True, 'schema': {'type': 'integer', 'title': 'Id'}}, {'name': 'cid', 'in': 'path', 'required': True, 'schema': {'type': 'integer', 'title': 'Cid'}}], 'responses': {'description': 'Successful Response', 'content': {'application/json': {'schema': {'properties': {'id': {'type': 'integer', 'title': 'Id'}, 'comment': {'type': 'string', 'title': 'Comment'}}, 'type': 'object', 'required': ['id', 'comment'], 'title': 'Comment'}}}}}), ('GET /movies/years/', None, {'responses': {'description': 'Successful Response', 'content': {'application/json': {'schema': {'items': {'type': 'integer'}, 'type': 'array', 'title': 'Response Get Movie Years Movies Years  Get'}}}}})])"
      ]
     },
     "execution_count": 2,
     "metadata": {},
     "output_type": "execute_result"
    }
   ],
   "source": [
    "import json\n",
    "\n",
    "with open(\"mockserver_openapi.json\") as f:\n",
    "    raw_mockserver_api_spec = json.load(f)\n",
    "mockserver_api_spec = reduce_openapi_spec(raw_mockserver_api_spec)\n",
    "mockserver_api_spec"
   ]
  },
  {
   "cell_type": "code",
   "execution_count": 3,
   "id": "98b81396",
   "metadata": {},
   "outputs": [
    {
     "data": {
      "text/plain": [
       "'https://api.apis.guru/v2'"
      ]
     },
     "execution_count": 3,
     "metadata": {},
     "output_type": "execute_result"
    }
   ],
   "source": [
    "servers = raw_apisguru_api_spec.get(\"servers\", [])\n",
    "base_url = servers[0][\"url\"] if servers else \"\"\n",
    "base_url"
   ]
  },
  {
   "cell_type": "code",
   "execution_count": 4,
   "id": "73d466fe",
   "metadata": {},
   "outputs": [
    {
     "data": {
      "text/plain": [
       "[('GET /providers.json',\n",
       "  'List all the providers in the directory\\n',\n",
       "  {'operationId': 'getProviders',\n",
       "   'tags': ['APIs'],\n",
       "   'summary': 'List all providers',\n",
       "   'description': 'List all the providers in the directory\\n',\n",
       "   'responses': {'200': {'description': 'OK',\n",
       "     'content': {'application/json': {'schema': {'type': 'object',\n",
       "        'properties': {'data': {'type': 'array',\n",
       "          'items': {'type': 'string', 'minLength': 1},\n",
       "          'minItems': 1}}}}}}}}),\n",
       " ('GET /{provider}.json',\n",
       "  'List all APIs in the directory for a particular providerName\\nReturns links to the individual API entry for each API.\\n',\n",
       "  {'operationId': 'getProvider',\n",
       "   'tags': ['APIs'],\n",
       "   'summary': 'List all APIs for a particular provider',\n",
       "   'description': 'List all APIs in the directory for a particular providerName\\nReturns links to the individual API entry for each API.\\n',\n",
       "   'parameters': [{'$ref': '#/components/parameters/provider'}],\n",
       "   'responses': {'200': {'description': 'OK',\n",
       "     'content': {'application/json': {'schema': {'$ref': '#/components/schemas/APIs'}}}}}}),\n",
       " ('GET /{provider}/services.json',\n",
       "  'List all serviceNames in the directory for a particular providerName\\n',\n",
       "  {'operationId': 'getServices',\n",
       "   'tags': ['APIs'],\n",
       "   'summary': 'List all serviceNames for a particular provider',\n",
       "   'description': 'List all serviceNames in the directory for a particular providerName\\n',\n",
       "   'parameters': [{'$ref': '#/components/parameters/provider'}],\n",
       "   'responses': {'200': {'description': 'OK',\n",
       "     'content': {'application/json': {'schema': {'type': 'object',\n",
       "        'properties': {'data': {'type': 'array',\n",
       "          'items': {'type': 'string', 'minLength': 0},\n",
       "          'minItems': 1}}}}}}}}),\n",
       " ('GET /specs/{provider}/{api}.json',\n",
       "  'Returns the API entry for one specific version of an API where there is no serviceName.',\n",
       "  {'operationId': 'getAPI',\n",
       "   'tags': ['APIs'],\n",
       "   'summary': 'Retrieve one version of a particular API',\n",
       "   'description': 'Returns the API entry for one specific version of an API where there is no serviceName.',\n",
       "   'parameters': [{'$ref': '#/components/parameters/provider'},\n",
       "    {'$ref': '#/components/parameters/api'}],\n",
       "   'responses': {'200': {'description': 'OK',\n",
       "     'content': {'application/json': {'schema': {'$ref': '#/components/schemas/API'}}}}}}),\n",
       " ('GET /specs/{provider}/{service}/{api}.json',\n",
       "  'Returns the API entry for one specific version of an API where there is a serviceName.',\n",
       "  {'operationId': 'getServiceAPI',\n",
       "   'tags': ['APIs'],\n",
       "   'summary': 'Retrieve one version of a particular API with a serviceName.',\n",
       "   'description': 'Returns the API entry for one specific version of an API where there is a serviceName.',\n",
       "   'parameters': [{'$ref': '#/components/parameters/provider'},\n",
       "    {'name': 'service',\n",
       "     'in': 'path',\n",
       "     'required': True,\n",
       "     'schema': {'type': 'string',\n",
       "      'minLength': 1,\n",
       "      'maxLength': 255,\n",
       "      'example': 'graph'}},\n",
       "    {'$ref': '#/components/parameters/api'}],\n",
       "   'responses': {'200': {'description': 'OK',\n",
       "     'content': {'application/json': {'schema': {'$ref': '#/components/schemas/API'}}}}}}),\n",
       " ('GET /list.json',\n",
       "  'List all APIs in the directory.\\nReturns links to the OpenAPI definitions for each API in the directory.\\nIf API exist in multiple versions `preferred` one is explicitly marked.\\nSome basic info from the OpenAPI definition is cached inside each object.\\nThis allows you to generate some simple views without needing to fetch the OpenAPI definition for each API.\\n',\n",
       "  {'operationId': 'listAPIs',\n",
       "   'tags': ['APIs'],\n",
       "   'summary': 'List all APIs',\n",
       "   'description': 'List all APIs in the directory.\\nReturns links to the OpenAPI definitions for each API in the directory.\\nIf API exist in multiple versions `preferred` one is explicitly marked.\\nSome basic info from the OpenAPI definition is cached inside each object.\\nThis allows you to generate some simple views without needing to fetch the OpenAPI definition for each API.\\n',\n",
       "   'responses': {'200': {'description': 'OK',\n",
       "     'content': {'application/json': {'schema': {'$ref': '#/components/schemas/APIs'}}}}}}),\n",
       " ('GET /metrics.json',\n",
       "  'Some basic metrics for the entire directory.\\nJust stunning numbers to put on a front page and are intended purely for WoW effect :)\\n',\n",
       "  {'operationId': 'getMetrics',\n",
       "   'summary': 'Get basic metrics',\n",
       "   'description': 'Some basic metrics for the entire directory.\\nJust stunning numbers to put on a front page and are intended purely for WoW effect :)\\n',\n",
       "   'tags': ['APIs'],\n",
       "   'responses': {'200': {'description': 'OK',\n",
       "     'content': {'application/json': {'schema': {'$ref': '#/components/schemas/Metrics'}}}}}})]"
      ]
     },
     "execution_count": 4,
     "metadata": {},
     "output_type": "execute_result"
    }
   ],
   "source": [
    "endpoints = [\n",
    "    (\n",
    "        f\"{operation_name.upper()} {route}\",\n",
    "        docs.get(\"description\", docs.get(\"summary\", \"\")),\n",
    "        docs,\n",
    "    )\n",
    "    for route, operation in raw_apisguru_api_spec[\"paths\"].items()\n",
    "    for operation_name, docs in operation.items()\n",
    "]\n",
    "endpoints"
   ]
  },
  {
   "cell_type": "code",
   "execution_count": 5,
   "id": "f5352618",
   "metadata": {},
   "outputs": [
    {
     "data": {
      "text/plain": [
       "[('GET /providers.json',\n",
       "  'List all the providers in the directory\\n',\n",
       "  {'operationId': 'getProviders',\n",
       "   'tags': ['APIs'],\n",
       "   'summary': 'List all providers',\n",
       "   'description': 'List all the providers in the directory\\n',\n",
       "   'responses': {'200': {'description': 'OK',\n",
       "     'content': {'application/json': {'schema': {'type': 'object',\n",
       "        'properties': {'data': {'type': 'array',\n",
       "          'items': {'type': 'string', 'minLength': 1},\n",
       "          'minItems': 1}}}}}}}}),\n",
       " ('GET /{provider}.json',\n",
       "  'List all APIs in the directory for a particular providerName\\nReturns links to the individual API entry for each API.\\n',\n",
       "  {'operationId': 'getProvider',\n",
       "   'tags': ['APIs'],\n",
       "   'summary': 'List all APIs for a particular provider',\n",
       "   'description': 'List all APIs in the directory for a particular providerName\\nReturns links to the individual API entry for each API.\\n',\n",
       "   'parameters': [{'name': 'provider',\n",
       "     'in': 'path',\n",
       "     'required': True,\n",
       "     'schema': {'type': 'string',\n",
       "      'minLength': 1,\n",
       "      'maxLength': 255,\n",
       "      'example': 'apis.guru'}}],\n",
       "   'responses': {'200': {'description': 'OK',\n",
       "     'content': {'application/json': {'schema': {'description': 'List of API details.\\nIt is a JSON object with API IDs(`<provider>[:<service>]`) as keys.\\n',\n",
       "        'type': 'object',\n",
       "        'additionalProperties': {'description': 'Meta information about API',\n",
       "         'type': 'object',\n",
       "         'required': ['added', 'preferred', 'versions'],\n",
       "         'properties': {'added': {'description': 'Timestamp when the API was first added to the directory',\n",
       "           'type': 'string',\n",
       "           'format': 'date-time'},\n",
       "          'preferred': {'description': 'Recommended version',\n",
       "           'type': 'string'},\n",
       "          'versions': {'description': 'List of supported versions of the API',\n",
       "           'type': 'object',\n",
       "           'additionalProperties': {'type': 'object',\n",
       "            'required': ['added',\n",
       "             'updated',\n",
       "             'swaggerUrl',\n",
       "             'swaggerYamlUrl',\n",
       "             'info',\n",
       "             'openapiVer'],\n",
       "            'properties': {'added': {'description': 'Timestamp when the version was added',\n",
       "              'type': 'string',\n",
       "              'format': 'date-time'},\n",
       "             'updated': {'description': 'Timestamp when the version was updated',\n",
       "              'type': 'string',\n",
       "              'format': 'date-time'},\n",
       "             'swaggerUrl': {'description': 'URL to OpenAPI definition in JSON format',\n",
       "              'type': 'string',\n",
       "              'format': 'url'},\n",
       "             'swaggerYamlUrl': {'description': 'URL to OpenAPI definition in YAML format',\n",
       "              'type': 'string',\n",
       "              'format': 'url'},\n",
       "             'link': {'description': 'Link to the individual API entry for this API',\n",
       "              'type': 'string',\n",
       "              'format': 'url'},\n",
       "             'info': {'description': 'Copy of `info` section from OpenAPI definition',\n",
       "              'type': 'object',\n",
       "              'minProperties': 1},\n",
       "             'externalDocs': {'description': 'Copy of `externalDocs` section from OpenAPI definition',\n",
       "              'type': 'object',\n",
       "              'minProperties': 1},\n",
       "             'openapiVer': {'description': 'The value of the `openapi` or `swagger` property of the source definition',\n",
       "              'type': 'string'}},\n",
       "            'additionalProperties': False},\n",
       "           'minProperties': 1}},\n",
       "         'additionalProperties': False},\n",
       "        'minProperties': 1,\n",
       "        'example': {'googleapis.com:drive': {'added': datetime.datetime(2015, 2, 22, 20, 0, 45, tzinfo=datetime.timezone.utc),\n",
       "          'preferred': 'v3',\n",
       "          'versions': {'v2': {'added': datetime.datetime(2015, 2, 22, 20, 0, 45, tzinfo=datetime.timezone.utc),\n",
       "            'info': {'title': 'Drive',\n",
       "             'version': 'v2',\n",
       "             'x-apiClientRegistration': {'url': 'https://console.developers.google.com'},\n",
       "             'x-logo': {'url': 'https://api.apis.guru/v2/cache/logo/https_www.gstatic.com_images_icons_material_product_2x_drive_32dp.png'},\n",
       "             'x-origin': {'format': 'google',\n",
       "              'url': 'https://www.googleapis.com/discovery/v1/apis/drive/v2/rest',\n",
       "              'version': 'v1'},\n",
       "             'x-preferred': False,\n",
       "             'x-providerName': 'googleapis.com',\n",
       "             'x-serviceName': 'drive'},\n",
       "            'swaggerUrl': 'https://api.apis.guru/v2/specs/googleapis.com/drive/v2/swagger.json',\n",
       "            'swaggerYamlUrl': 'https://api.apis.guru/v2/specs/googleapis.com/drive/v2/swagger.yaml',\n",
       "            'updated': datetime.datetime(2016, 6, 17, 0, 21, 44, tzinfo=datetime.timezone.utc)},\n",
       "           'v3': {'added': datetime.datetime(2015, 12, 12, 0, 25, 13, tzinfo=datetime.timezone.utc),\n",
       "            'info': {'title': 'Drive',\n",
       "             'version': 'v3',\n",
       "             'x-apiClientRegistration': {'url': 'https://console.developers.google.com'},\n",
       "             'x-logo': {'url': 'https://api.apis.guru/v2/cache/logo/https_www.gstatic.com_images_icons_material_product_2x_drive_32dp.png'},\n",
       "             'x-origin': {'format': 'google',\n",
       "              'url': 'https://www.googleapis.com/discovery/v1/apis/drive/v3/rest',\n",
       "              'version': 'v1'},\n",
       "             'x-preferred': True,\n",
       "             'x-providerName': 'googleapis.com',\n",
       "             'x-serviceName': 'drive'},\n",
       "            'swaggerUrl': 'https://api.apis.guru/v2/specs/googleapis.com/drive/v3/swagger.json',\n",
       "            'swaggerYamlUrl': 'https://api.apis.guru/v2/specs/googleapis.com/drive/v3/swagger.yaml',\n",
       "            'updated': datetime.datetime(2016, 6, 17, 0, 21, 44, tzinfo=datetime.timezone.utc)}}}}}}}}}}),\n",
       " ('GET /{provider}/services.json',\n",
       "  'List all serviceNames in the directory for a particular providerName\\n',\n",
       "  {'operationId': 'getServices',\n",
       "   'tags': ['APIs'],\n",
       "   'summary': 'List all serviceNames for a particular provider',\n",
       "   'description': 'List all serviceNames in the directory for a particular providerName\\n',\n",
       "   'parameters': [{'name': 'provider',\n",
       "     'in': 'path',\n",
       "     'required': True,\n",
       "     'schema': {'type': 'string',\n",
       "      'minLength': 1,\n",
       "      'maxLength': 255,\n",
       "      'example': 'apis.guru'}}],\n",
       "   'responses': {'200': {'description': 'OK',\n",
       "     'content': {'application/json': {'schema': {'type': 'object',\n",
       "        'properties': {'data': {'type': 'array',\n",
       "          'items': {'type': 'string', 'minLength': 0},\n",
       "          'minItems': 1}}}}}}}}),\n",
       " ('GET /specs/{provider}/{api}.json',\n",
       "  'Returns the API entry for one specific version of an API where there is no serviceName.',\n",
       "  {'operationId': 'getAPI',\n",
       "   'tags': ['APIs'],\n",
       "   'summary': 'Retrieve one version of a particular API',\n",
       "   'description': 'Returns the API entry for one specific version of an API where there is no serviceName.',\n",
       "   'parameters': [{'name': 'provider',\n",
       "     'in': 'path',\n",
       "     'required': True,\n",
       "     'schema': {'type': 'string',\n",
       "      'minLength': 1,\n",
       "      'maxLength': 255,\n",
       "      'example': 'apis.guru'}},\n",
       "    {'name': 'api',\n",
       "     'in': 'path',\n",
       "     'required': True,\n",
       "     'schema': {'type': 'string',\n",
       "      'minLength': 1,\n",
       "      'maxLength': 255,\n",
       "      'example': '2.1.0'}}],\n",
       "   'responses': {'200': {'description': 'OK',\n",
       "     'content': {'application/json': {'schema': {'description': 'Meta information about API',\n",
       "        'type': 'object',\n",
       "        'required': ['added', 'preferred', 'versions'],\n",
       "        'properties': {'added': {'description': 'Timestamp when the API was first added to the directory',\n",
       "          'type': 'string',\n",
       "          'format': 'date-time'},\n",
       "         'preferred': {'description': 'Recommended version', 'type': 'string'},\n",
       "         'versions': {'description': 'List of supported versions of the API',\n",
       "          'type': 'object',\n",
       "          'additionalProperties': {'type': 'object',\n",
       "           'required': ['added',\n",
       "            'updated',\n",
       "            'swaggerUrl',\n",
       "            'swaggerYamlUrl',\n",
       "            'info',\n",
       "            'openapiVer'],\n",
       "           'properties': {'added': {'description': 'Timestamp when the version was added',\n",
       "             'type': 'string',\n",
       "             'format': 'date-time'},\n",
       "            'updated': {'description': 'Timestamp when the version was updated',\n",
       "             'type': 'string',\n",
       "             'format': 'date-time'},\n",
       "            'swaggerUrl': {'description': 'URL to OpenAPI definition in JSON format',\n",
       "             'type': 'string',\n",
       "             'format': 'url'},\n",
       "            'swaggerYamlUrl': {'description': 'URL to OpenAPI definition in YAML format',\n",
       "             'type': 'string',\n",
       "             'format': 'url'},\n",
       "            'link': {'description': 'Link to the individual API entry for this API',\n",
       "             'type': 'string',\n",
       "             'format': 'url'},\n",
       "            'info': {'description': 'Copy of `info` section from OpenAPI definition',\n",
       "             'type': 'object',\n",
       "             'minProperties': 1},\n",
       "            'externalDocs': {'description': 'Copy of `externalDocs` section from OpenAPI definition',\n",
       "             'type': 'object',\n",
       "             'minProperties': 1},\n",
       "            'openapiVer': {'description': 'The value of the `openapi` or `swagger` property of the source definition',\n",
       "             'type': 'string'}},\n",
       "           'additionalProperties': False},\n",
       "          'minProperties': 1}},\n",
       "        'additionalProperties': False}}}}}}),\n",
       " ('GET /specs/{provider}/{service}/{api}.json',\n",
       "  'Returns the API entry for one specific version of an API where there is a serviceName.',\n",
       "  {'operationId': 'getServiceAPI',\n",
       "   'tags': ['APIs'],\n",
       "   'summary': 'Retrieve one version of a particular API with a serviceName.',\n",
       "   'description': 'Returns the API entry for one specific version of an API where there is a serviceName.',\n",
       "   'parameters': [{'name': 'provider',\n",
       "     'in': 'path',\n",
       "     'required': True,\n",
       "     'schema': {'type': 'string',\n",
       "      'minLength': 1,\n",
       "      'maxLength': 255,\n",
       "      'example': 'apis.guru'}},\n",
       "    {'name': 'service',\n",
       "     'in': 'path',\n",
       "     'required': True,\n",
       "     'schema': {'type': 'string',\n",
       "      'minLength': 1,\n",
       "      'maxLength': 255,\n",
       "      'example': 'graph'}},\n",
       "    {'name': 'api',\n",
       "     'in': 'path',\n",
       "     'required': True,\n",
       "     'schema': {'type': 'string',\n",
       "      'minLength': 1,\n",
       "      'maxLength': 255,\n",
       "      'example': '2.1.0'}}],\n",
       "   'responses': {'200': {'description': 'OK',\n",
       "     'content': {'application/json': {'schema': {'description': 'Meta information about API',\n",
       "        'type': 'object',\n",
       "        'required': ['added', 'preferred', 'versions'],\n",
       "        'properties': {'added': {'description': 'Timestamp when the API was first added to the directory',\n",
       "          'type': 'string',\n",
       "          'format': 'date-time'},\n",
       "         'preferred': {'description': 'Recommended version', 'type': 'string'},\n",
       "         'versions': {'description': 'List of supported versions of the API',\n",
       "          'type': 'object',\n",
       "          'additionalProperties': {'type': 'object',\n",
       "           'required': ['added',\n",
       "            'updated',\n",
       "            'swaggerUrl',\n",
       "            'swaggerYamlUrl',\n",
       "            'info',\n",
       "            'openapiVer'],\n",
       "           'properties': {'added': {'description': 'Timestamp when the version was added',\n",
       "             'type': 'string',\n",
       "             'format': 'date-time'},\n",
       "            'updated': {'description': 'Timestamp when the version was updated',\n",
       "             'type': 'string',\n",
       "             'format': 'date-time'},\n",
       "            'swaggerUrl': {'description': 'URL to OpenAPI definition in JSON format',\n",
       "             'type': 'string',\n",
       "             'format': 'url'},\n",
       "            'swaggerYamlUrl': {'description': 'URL to OpenAPI definition in YAML format',\n",
       "             'type': 'string',\n",
       "             'format': 'url'},\n",
       "            'link': {'description': 'Link to the individual API entry for this API',\n",
       "             'type': 'string',\n",
       "             'format': 'url'},\n",
       "            'info': {'description': 'Copy of `info` section from OpenAPI definition',\n",
       "             'type': 'object',\n",
       "             'minProperties': 1},\n",
       "            'externalDocs': {'description': 'Copy of `externalDocs` section from OpenAPI definition',\n",
       "             'type': 'object',\n",
       "             'minProperties': 1},\n",
       "            'openapiVer': {'description': 'The value of the `openapi` or `swagger` property of the source definition',\n",
       "             'type': 'string'}},\n",
       "           'additionalProperties': False},\n",
       "          'minProperties': 1}},\n",
       "        'additionalProperties': False}}}}}}),\n",
       " ('GET /list.json',\n",
       "  'List all APIs in the directory.\\nReturns links to the OpenAPI definitions for each API in the directory.\\nIf API exist in multiple versions `preferred` one is explicitly marked.\\nSome basic info from the OpenAPI definition is cached inside each object.\\nThis allows you to generate some simple views without needing to fetch the OpenAPI definition for each API.\\n',\n",
       "  {'operationId': 'listAPIs',\n",
       "   'tags': ['APIs'],\n",
       "   'summary': 'List all APIs',\n",
       "   'description': 'List all APIs in the directory.\\nReturns links to the OpenAPI definitions for each API in the directory.\\nIf API exist in multiple versions `preferred` one is explicitly marked.\\nSome basic info from the OpenAPI definition is cached inside each object.\\nThis allows you to generate some simple views without needing to fetch the OpenAPI definition for each API.\\n',\n",
       "   'responses': {'200': {'description': 'OK',\n",
       "     'content': {'application/json': {'schema': {'description': 'List of API details.\\nIt is a JSON object with API IDs(`<provider>[:<service>]`) as keys.\\n',\n",
       "        'type': 'object',\n",
       "        'additionalProperties': {'description': 'Meta information about API',\n",
       "         'type': 'object',\n",
       "         'required': ['added', 'preferred', 'versions'],\n",
       "         'properties': {'added': {'description': 'Timestamp when the API was first added to the directory',\n",
       "           'type': 'string',\n",
       "           'format': 'date-time'},\n",
       "          'preferred': {'description': 'Recommended version',\n",
       "           'type': 'string'},\n",
       "          'versions': {'description': 'List of supported versions of the API',\n",
       "           'type': 'object',\n",
       "           'additionalProperties': {'type': 'object',\n",
       "            'required': ['added',\n",
       "             'updated',\n",
       "             'swaggerUrl',\n",
       "             'swaggerYamlUrl',\n",
       "             'info',\n",
       "             'openapiVer'],\n",
       "            'properties': {'added': {'description': 'Timestamp when the version was added',\n",
       "              'type': 'string',\n",
       "              'format': 'date-time'},\n",
       "             'updated': {'description': 'Timestamp when the version was updated',\n",
       "              'type': 'string',\n",
       "              'format': 'date-time'},\n",
       "             'swaggerUrl': {'description': 'URL to OpenAPI definition in JSON format',\n",
       "              'type': 'string',\n",
       "              'format': 'url'},\n",
       "             'swaggerYamlUrl': {'description': 'URL to OpenAPI definition in YAML format',\n",
       "              'type': 'string',\n",
       "              'format': 'url'},\n",
       "             'link': {'description': 'Link to the individual API entry for this API',\n",
       "              'type': 'string',\n",
       "              'format': 'url'},\n",
       "             'info': {'description': 'Copy of `info` section from OpenAPI definition',\n",
       "              'type': 'object',\n",
       "              'minProperties': 1},\n",
       "             'externalDocs': {'description': 'Copy of `externalDocs` section from OpenAPI definition',\n",
       "              'type': 'object',\n",
       "              'minProperties': 1},\n",
       "             'openapiVer': {'description': 'The value of the `openapi` or `swagger` property of the source definition',\n",
       "              'type': 'string'}},\n",
       "            'additionalProperties': False},\n",
       "           'minProperties': 1}},\n",
       "         'additionalProperties': False},\n",
       "        'minProperties': 1,\n",
       "        'example': {'googleapis.com:drive': {'added': datetime.datetime(2015, 2, 22, 20, 0, 45, tzinfo=datetime.timezone.utc),\n",
       "          'preferred': 'v3',\n",
       "          'versions': {'v2': {'added': datetime.datetime(2015, 2, 22, 20, 0, 45, tzinfo=datetime.timezone.utc),\n",
       "            'info': {'title': 'Drive',\n",
       "             'version': 'v2',\n",
       "             'x-apiClientRegistration': {'url': 'https://console.developers.google.com'},\n",
       "             'x-logo': {'url': 'https://api.apis.guru/v2/cache/logo/https_www.gstatic.com_images_icons_material_product_2x_drive_32dp.png'},\n",
       "             'x-origin': {'format': 'google',\n",
       "              'url': 'https://www.googleapis.com/discovery/v1/apis/drive/v2/rest',\n",
       "              'version': 'v1'},\n",
       "             'x-preferred': False,\n",
       "             'x-providerName': 'googleapis.com',\n",
       "             'x-serviceName': 'drive'},\n",
       "            'swaggerUrl': 'https://api.apis.guru/v2/specs/googleapis.com/drive/v2/swagger.json',\n",
       "            'swaggerYamlUrl': 'https://api.apis.guru/v2/specs/googleapis.com/drive/v2/swagger.yaml',\n",
       "            'updated': datetime.datetime(2016, 6, 17, 0, 21, 44, tzinfo=datetime.timezone.utc)},\n",
       "           'v3': {'added': datetime.datetime(2015, 12, 12, 0, 25, 13, tzinfo=datetime.timezone.utc),\n",
       "            'info': {'title': 'Drive',\n",
       "             'version': 'v3',\n",
       "             'x-apiClientRegistration': {'url': 'https://console.developers.google.com'},\n",
       "             'x-logo': {'url': 'https://api.apis.guru/v2/cache/logo/https_www.gstatic.com_images_icons_material_product_2x_drive_32dp.png'},\n",
       "             'x-origin': {'format': 'google',\n",
       "              'url': 'https://www.googleapis.com/discovery/v1/apis/drive/v3/rest',\n",
       "              'version': 'v1'},\n",
       "             'x-preferred': True,\n",
       "             'x-providerName': 'googleapis.com',\n",
       "             'x-serviceName': 'drive'},\n",
       "            'swaggerUrl': 'https://api.apis.guru/v2/specs/googleapis.com/drive/v3/swagger.json',\n",
       "            'swaggerYamlUrl': 'https://api.apis.guru/v2/specs/googleapis.com/drive/v3/swagger.yaml',\n",
       "            'updated': datetime.datetime(2016, 6, 17, 0, 21, 44, tzinfo=datetime.timezone.utc)}}}}}}}}}}),\n",
       " ('GET /metrics.json',\n",
       "  'Some basic metrics for the entire directory.\\nJust stunning numbers to put on a front page and are intended purely for WoW effect :)\\n',\n",
       "  {'operationId': 'getMetrics',\n",
       "   'summary': 'Get basic metrics',\n",
       "   'description': 'Some basic metrics for the entire directory.\\nJust stunning numbers to put on a front page and are intended purely for WoW effect :)\\n',\n",
       "   'tags': ['APIs'],\n",
       "   'responses': {'200': {'description': 'OK',\n",
       "     'content': {'application/json': {'schema': {'description': 'List of basic metrics',\n",
       "        'type': 'object',\n",
       "        'required': ['numSpecs', 'numAPIs', 'numEndpoints'],\n",
       "        'properties': {'numSpecs': {'description': 'Number of API definitions including different versions of the same API',\n",
       "          'type': 'integer',\n",
       "          'minimum': 1},\n",
       "         'numAPIs': {'description': 'Number of unique APIs',\n",
       "          'type': 'integer',\n",
       "          'minimum': 1},\n",
       "         'numEndpoints': {'description': 'Total number of endpoints inside all definitions',\n",
       "          'type': 'integer',\n",
       "          'minimum': 1},\n",
       "         'unreachable': {'description': 'Number of unreachable (4XX,5XX status) APIs',\n",
       "          'type': 'integer'},\n",
       "         'invalid': {'description': 'Number of newly invalid APIs',\n",
       "          'type': 'integer'},\n",
       "         'unofficial': {'description': 'Number of unofficial APIs',\n",
       "          'type': 'integer'},\n",
       "         'fixes': {'description': 'Total number of fixes applied across all APIs',\n",
       "          'type': 'integer'},\n",
       "         'fixedPct': {'description': 'Percentage of all APIs where auto fixes have been applied',\n",
       "          'type': 'integer'},\n",
       "         'datasets': {'description': 'Data used for charting etc',\n",
       "          'type': 'array',\n",
       "          'items': {}},\n",
       "         'stars': {'description': 'GitHub stars for our main repo',\n",
       "          'type': 'integer'},\n",
       "         'issues': {'description': 'Open GitHub issues on our main repo',\n",
       "          'type': 'integer'},\n",
       "         'thisWeek': {'description': 'Summary totals for the last 7 days',\n",
       "          'type': 'object',\n",
       "          'properties': {'added': {'description': 'APIs added in the last week',\n",
       "            'type': 'integer'},\n",
       "           'updated': {'description': 'APIs updated in the last week',\n",
       "            'type': 'integer'}}},\n",
       "         'numDrivers': {'description': 'Number of methods of API retrieval',\n",
       "          'type': 'integer'},\n",
       "         'numProviders': {'description': 'Number of API providers in directory',\n",
       "          'type': 'integer'}},\n",
       "        'additionalProperties': False,\n",
       "        'example': {'numAPIs': 2501,\n",
       "         'numEndpoints': 106448,\n",
       "         'numSpecs': 3329,\n",
       "         'unreachable': 123,\n",
       "         'invalid': 598,\n",
       "         'unofficial': 25,\n",
       "         'fixes': 81119,\n",
       "         'fixedPct': 22,\n",
       "         'datasets': [],\n",
       "         'stars': 2429,\n",
       "         'issues': 28,\n",
       "         'thisWeek': {'added': 45, 'updated': 171},\n",
       "         'numDrivers': 10,\n",
       "         'numProviders': 659}}}}}}})]"
      ]
     },
     "execution_count": 5,
     "metadata": {},
     "output_type": "execute_result"
    }
   ],
   "source": [
    "from langchain_core.utils.json_schema import dereference_refs\n",
    "\n",
    "endpoints = [\n",
    "    (name, description, dereference_refs(docs, full_schema=raw_apisguru_api_spec))\n",
    "    for name, description, docs in endpoints\n",
    "]\n",
    "endpoints"
   ]
  },
  {
   "cell_type": "code",
   "execution_count": 6,
   "id": "98a2c369",
   "metadata": {},
   "outputs": [
    {
     "data": {
      "text/plain": [
       "('GET /{provider}.json',\n",
       " 'List all APIs in the directory for a particular providerName\\nReturns links to the individual API entry for each API.\\n',\n",
       " {'operationId': 'getProvider',\n",
       "  'tags': ['APIs'],\n",
       "  'summary': 'List all APIs for a particular provider',\n",
       "  'description': 'List all APIs in the directory for a particular providerName\\nReturns links to the individual API entry for each API.\\n',\n",
       "  'parameters': [{'name': 'provider',\n",
       "    'in': 'path',\n",
       "    'required': True,\n",
       "    'schema': {'type': 'string',\n",
       "     'minLength': 1,\n",
       "     'maxLength': 255,\n",
       "     'example': 'apis.guru'}}],\n",
       "  'responses': {'200': {'description': 'OK',\n",
       "    'content': {'application/json': {'schema': {'description': 'List of API details.\\nIt is a JSON object with API IDs(`<provider>[:<service>]`) as keys.\\n',\n",
       "       'type': 'object',\n",
       "       'additionalProperties': {'description': 'Meta information about API',\n",
       "        'type': 'object',\n",
       "        'required': ['added', 'preferred', 'versions'],\n",
       "        'properties': {'added': {'description': 'Timestamp when the API was first added to the directory',\n",
       "          'type': 'string',\n",
       "          'format': 'date-time'},\n",
       "         'preferred': {'description': 'Recommended version', 'type': 'string'},\n",
       "         'versions': {'description': 'List of supported versions of the API',\n",
       "          'type': 'object',\n",
       "          'additionalProperties': {'type': 'object',\n",
       "           'required': ['added',\n",
       "            'updated',\n",
       "            'swaggerUrl',\n",
       "            'swaggerYamlUrl',\n",
       "            'info',\n",
       "            'openapiVer'],\n",
       "           'properties': {'added': {'description': 'Timestamp when the version was added',\n",
       "             'type': 'string',\n",
       "             'format': 'date-time'},\n",
       "            'updated': {'description': 'Timestamp when the version was updated',\n",
       "             'type': 'string',\n",
       "             'format': 'date-time'},\n",
       "            'swaggerUrl': {'description': 'URL to OpenAPI definition in JSON format',\n",
       "             'type': 'string',\n",
       "             'format': 'url'},\n",
       "            'swaggerYamlUrl': {'description': 'URL to OpenAPI definition in YAML format',\n",
       "             'type': 'string',\n",
       "             'format': 'url'},\n",
       "            'link': {'description': 'Link to the individual API entry for this API',\n",
       "             'type': 'string',\n",
       "             'format': 'url'},\n",
       "            'info': {'description': 'Copy of `info` section from OpenAPI definition',\n",
       "             'type': 'object',\n",
       "             'minProperties': 1},\n",
       "            'externalDocs': {'description': 'Copy of `externalDocs` section from OpenAPI definition',\n",
       "             'type': 'object',\n",
       "             'minProperties': 1},\n",
       "            'openapiVer': {'description': 'The value of the `openapi` or `swagger` property of the source definition',\n",
       "             'type': 'string'}},\n",
       "           'additionalProperties': False},\n",
       "          'minProperties': 1}},\n",
       "        'additionalProperties': False},\n",
       "       'minProperties': 1,\n",
       "       'example': {'googleapis.com:drive': {'added': datetime.datetime(2015, 2, 22, 20, 0, 45, tzinfo=datetime.timezone.utc),\n",
       "         'preferred': 'v3',\n",
       "         'versions': {'v2': {'added': datetime.datetime(2015, 2, 22, 20, 0, 45, tzinfo=datetime.timezone.utc),\n",
       "           'info': {'title': 'Drive',\n",
       "            'version': 'v2',\n",
       "            'x-apiClientRegistration': {'url': 'https://console.developers.google.com'},\n",
       "            'x-logo': {'url': 'https://api.apis.guru/v2/cache/logo/https_www.gstatic.com_images_icons_material_product_2x_drive_32dp.png'},\n",
       "            'x-origin': {'format': 'google',\n",
       "             'url': 'https://www.googleapis.com/discovery/v1/apis/drive/v2/rest',\n",
       "             'version': 'v1'},\n",
       "            'x-preferred': False,\n",
       "            'x-providerName': 'googleapis.com',\n",
       "            'x-serviceName': 'drive'},\n",
       "           'swaggerUrl': 'https://api.apis.guru/v2/specs/googleapis.com/drive/v2/swagger.json',\n",
       "           'swaggerYamlUrl': 'https://api.apis.guru/v2/specs/googleapis.com/drive/v2/swagger.yaml',\n",
       "           'updated': datetime.datetime(2016, 6, 17, 0, 21, 44, tzinfo=datetime.timezone.utc)},\n",
       "          'v3': {'added': datetime.datetime(2015, 12, 12, 0, 25, 13, tzinfo=datetime.timezone.utc),\n",
       "           'info': {'title': 'Drive',\n",
       "            'version': 'v3',\n",
       "            'x-apiClientRegistration': {'url': 'https://console.developers.google.com'},\n",
       "            'x-logo': {'url': 'https://api.apis.guru/v2/cache/logo/https_www.gstatic.com_images_icons_material_product_2x_drive_32dp.png'},\n",
       "            'x-origin': {'format': 'google',\n",
       "             'url': 'https://www.googleapis.com/discovery/v1/apis/drive/v3/rest',\n",
       "             'version': 'v1'},\n",
       "            'x-preferred': True,\n",
       "            'x-providerName': 'googleapis.com',\n",
       "            'x-serviceName': 'drive'},\n",
       "           'swaggerUrl': 'https://api.apis.guru/v2/specs/googleapis.com/drive/v3/swagger.json',\n",
       "           'swaggerYamlUrl': 'https://api.apis.guru/v2/specs/googleapis.com/drive/v3/swagger.yaml',\n",
       "           'updated': datetime.datetime(2016, 6, 17, 0, 21, 44, tzinfo=datetime.timezone.utc)}}}}}}}}}})"
      ]
     },
     "execution_count": 6,
     "metadata": {},
     "output_type": "execute_result"
    }
   ],
   "source": [
    "endpoints[1]"
   ]
  },
  {
   "cell_type": "code",
   "execution_count": 7,
   "id": "25b9c22b",
   "metadata": {},
   "outputs": [],
   "source": [
    "import keyword\n",
    "import re\n",
    "\n",
    "\n",
    "def make_valid_identifier(s: str, prefix: str = \"_\", fallback: str = \"_\") -> str:\n",
    "    \"\"\"\n",
    "    将任意字符串转换成合法的 Python 标识符。\n",
    "    - s: 原始字符串\n",
    "    - prefix: 若首字符不合法，使用的前缀\n",
    "    - fallback: 若结果为空时的默认名称\n",
    "    \"\"\"\n",
    "    # 替换不合法字符为下划线\n",
    "    cleaned = re.sub(r\"[^0-9a-zA-Z_]\", \"_\", s.strip())\n",
    "    # 若首字符为数字，加前缀\n",
    "    if cleaned and cleaned[0].isdigit():\n",
    "        cleaned = prefix + cleaned\n",
    "    # 若清洗后为空或全是下划线，用 fallback\n",
    "    if not cleaned or cleaned.strip(\"_\") == \"\":\n",
    "        cleaned = fallback\n",
    "    # 若和 Python 关键字冲突，加后缀避免冲突\n",
    "    if keyword.iskeyword(cleaned):\n",
    "        cleaned += \"_\"\n",
    "    return cleaned"
   ]
  },
  {
   "cell_type": "code",
   "execution_count": 8,
   "id": "f8c48824",
   "metadata": {},
   "outputs": [
    {
     "data": {
      "text/plain": [
       "'GET___provider__json'"
      ]
     },
     "execution_count": 8,
     "metadata": {},
     "output_type": "execute_result"
    }
   ],
   "source": [
    "make_valid_identifier(endpoints[1][0])"
   ]
  },
  {
   "cell_type": "code",
   "execution_count": 9,
   "id": "1d6c88d1",
   "metadata": {},
   "outputs": [
    {
     "data": {
      "text/plain": [
       "'getProvider'"
      ]
     },
     "execution_count": 9,
     "metadata": {},
     "output_type": "execute_result"
    }
   ],
   "source": [
    "operation_id = endpoints[1][2].get(\"operationId\", make_valid_identifier(endpoints[1][0]))\n",
    "operation_id"
   ]
  },
  {
   "cell_type": "code",
   "execution_count": 10,
   "id": "d3721644",
   "metadata": {},
   "outputs": [
    {
     "data": {
      "text/plain": [
       "'List all APIs for a particular provider'"
      ]
     },
     "execution_count": 10,
     "metadata": {},
     "output_type": "execute_result"
    }
   ],
   "source": [
    "summary = endpoints[1][2].get(\"summary\", \"\")\n",
    "summary"
   ]
  },
  {
   "cell_type": "code",
   "execution_count": 11,
   "id": "064cca14",
   "metadata": {},
   "outputs": [
    {
     "data": {
      "text/plain": [
       "[{'name': 'provider',\n",
       "  'in': 'path',\n",
       "  'required': True,\n",
       "  'schema': {'type': 'string',\n",
       "   'minLength': 1,\n",
       "   'maxLength': 255,\n",
       "   'example': 'apis.guru'}}]"
      ]
     },
     "execution_count": 11,
     "metadata": {},
     "output_type": "execute_result"
    }
   ],
   "source": [
    "parameters = endpoints[1][2].get(\"parameters\", [])\n",
    "parameters"
   ]
  },
  {
   "cell_type": "code",
   "execution_count": 12,
   "id": "a70d89e4",
   "metadata": {},
   "outputs": [],
   "source": [
    "request_body = endpoints[1][2].get(\"requestBody\", None)\n",
    "request_body"
   ]
  },
  {
   "cell_type": "code",
   "execution_count": 13,
   "id": "bd062934",
   "metadata": {},
   "outputs": [],
   "source": [
    "method = \"get\"\n",
    "path = \"/{provider}.json\""
   ]
  },
  {
   "cell_type": "code",
   "execution_count": 14,
   "id": "89d26b89",
   "metadata": {},
   "outputs": [
    {
     "data": {
      "text/plain": [
       "{'name': 'provider',\n",
       " 'in': 'path',\n",
       " 'required': True,\n",
       " 'schema': {'type': 'string',\n",
       "  'minLength': 1,\n",
       "  'maxLength': 255,\n",
       "  'example': 'apis.guru'}}"
      ]
     },
     "execution_count": 14,
     "metadata": {},
     "output_type": "execute_result"
    }
   ],
   "source": [
    "param = parameters[0]\n",
    "param"
   ]
  },
  {
   "cell_type": "code",
   "execution_count": 15,
   "id": "e93f2380",
   "metadata": {},
   "outputs": [
    {
     "data": {
      "text/plain": [
       "'参数位置: path'"
      ]
     },
     "execution_count": 15,
     "metadata": {},
     "output_type": "execute_result"
    }
   ],
   "source": [
    "param_name = param[\"name\"]\n",
    "param_in = param.get(\"in\", \"query\")\n",
    "is_required = param.get(\"required\", False)\n",
    "description = param.get(\"description\", \"\")\n",
    "schema = param.get(\"schema\", {})\n",
    "if description:\n",
    "    description = f\"{description} (位置: {param_in})\"\n",
    "else:\n",
    "    description = f\"参数位置: {param_in}\"\n",
    "description"
   ]
  },
  {
   "cell_type": "code",
   "execution_count": 16,
   "id": "ef99f62f",
   "metadata": {},
   "outputs": [],
   "source": [
    "from json_schema_to_pydantic import create_model\n",
    "\n",
    "param_schema = {\"type\": \"object\", \"properties\": {param_name: schema}}\n",
    "ParamModel = create_model(param_schema)"
   ]
  },
  {
   "cell_type": "code",
   "execution_count": 17,
   "id": "b2a3bd09",
   "metadata": {},
   "outputs": [
    {
     "data": {
      "text/plain": [
       "json_schema_to_pydantic.model_builder.DynamicModel"
      ]
     },
     "execution_count": 17,
     "metadata": {},
     "output_type": "execute_result"
    }
   ],
   "source": [
    "ParamModel"
   ]
  },
  {
   "cell_type": "code",
   "execution_count": 18,
   "id": "c1fccf77",
   "metadata": {},
   "outputs": [
    {
     "data": {
      "text/plain": [
       "DynamicModel(provider=None)"
      ]
     },
     "execution_count": 18,
     "metadata": {},
     "output_type": "execute_result"
    }
   ],
   "source": [
    "test = ParamModel()\n",
    "test"
   ]
  },
  {
   "cell_type": "code",
   "execution_count": null,
   "id": "a900ede5",
   "metadata": {},
   "outputs": [],
   "source": [
    "from typing import Dict, Any, Type\n",
    "from langchain_core.tools import BaseTool\n",
    "from langchain_community.utilities.requests import RequestsWrapper\n",
    "from pydantic import BaseModel\n",
    "\n",
    "from langchain_community.tools.requests.tool import BaseRequestsTool\n",
    "\n",
    "\n",
    "class BaseOpenAPITool(BaseTool):\n",
    "    \"\"\"OpenAPI 工具基类\"\"\"\n",
    "\n",
    "    requests_wrapper: RequestsWrapper\n",
    "    base_url: str = \"\"\n",
    "    path: str = \"\"\n",
    "    method: str = \"\"\n",
    "    parameters_schema: dict | list | None = None\n",
    "    request_body_schema: dict | None = None\n",
    "\n",
    "    def _prepare_request(self, args: Dict[str, Any]) -> Dict[str, Any]:\n",
    "        \"\"\"准备请求参数\"\"\"\n",
    "        # 分离路径参数、查询参数和请求体\n",
    "        path_params = {}\n",
    "        query_params = {}\n",
    "        body_data = {}\n",
    "\n",
    "\n",
    "        print(self.parameters_schema)\n",
    "        print(self.request_body_schema)\n",
    "\n",
    "        for parameter in self.parameters_schema:\n",
    "            if parameter.get(\"in\") == \"path\":\n",
    "                param_name = parameter.get(\"name\")\n",
    "                path_params[param_name] = args.get(param_name)\n",
    "            elif parameter.get(\"in\") == \"query\":\n",
    "                param_name = parameter.get(\"name\")\n",
    "                query_params[param_name] = args.get(param_name)\n",
    "\n",
    "        if self.request_body_schema:\n",
    "            for key, value in self.request_body_schema.get(\"properties\", {}):\n",
    "                body_data[key] = args.get(key)\n",
    "\n",
    "        return {\"path_params\": path_params, \"query_params\": query_params, \"body_data\": body_data}\n",
    "\n",
    "    def _prepare_url(self, path_params: Dict[str, Any]) -> str:\n",
    "        \"\"\"准备完整的 URL\"\"\"\n",
    "        url = f\"{self.base_url}{self.path}\"\n",
    "\n",
    "        # 替换路径参数\n",
    "        for key, value in path_params.items():\n",
    "            placeholder = f\"{{{key}}}\"\n",
    "            if placeholder in url:\n",
    "                url = url.replace(placeholder, str(value))\n",
    "\n",
    "        return url\n",
    "\n",
    "\n",
    "class RequestsGetTool(BaseRequestsTool, BaseOpenAPITool):\n",
    "    \"\"\"Requests GET tool\"\"\"\n",
    "\n",
    "    name: str = \"requests_get\"\n",
    "    \"\"\"Tool name.\"\"\"\n",
    "    description: str\n",
    "    \"\"\"Tool description.\"\"\"\n",
    "\n",
    "    def _run(self, **kwargs: Any) -> str:\n",
    "        # print(kwargs)\n",
    "        \"\"\"执行 GET 请求\"\"\"\n",
    "        request_data = self._prepare_request(kwargs)\n",
    "        # print(request_data)\n",
    "        url = self._prepare_url(request_data[\"path_params\"])\n",
    "        # print(url)\n",
    "\n",
    "        response = self.requests_wrapper.get(url, params=request_data[\"query_params\"])\n",
    "        return response.strip()\n",
    "\n",
    "    async def _arun(self, **kwargs: Any) -> str:\n",
    "        raise NotImplementedError(\"异步请求未实现\")"
   ]
  },
  {
   "cell_type": "code",
   "execution_count": 20,
   "id": "87cb1e7f",
   "metadata": {},
   "outputs": [],
   "source": [
    "tool_class = RequestsGetTool"
   ]
  },
  {
   "cell_type": "code",
   "execution_count": 21,
   "id": "515ddfa3",
   "metadata": {},
   "outputs": [
    {
     "data": {
      "text/plain": [
       "'List all APIs in the directory for a particular providerName\\nReturns links to the individual API entry for each API.\\n'"
      ]
     },
     "execution_count": 21,
     "metadata": {},
     "output_type": "execute_result"
    }
   ],
   "source": [
    "description = endpoints[1][2].get(\"description\", summary)\n",
    "description"
   ]
  },
  {
   "cell_type": "code",
   "execution_count": 22,
   "id": "2e7ba937",
   "metadata": {},
   "outputs": [
    {
     "data": {
      "text/plain": [
       "'List all APIs in the directory for a particular providerName\\nReturns links to the individual API entry for each API.\\n\\n\\n路径: /{provider}.json\\n方法: GET'"
      ]
     },
     "execution_count": 22,
     "metadata": {},
     "output_type": "execute_result"
    }
   ],
   "source": [
    "tool_description = f\"{description}\\n\\n路径: {path}\\n方法: {method.upper()}\"\n",
    "tool_description"
   ]
  },
  {
   "cell_type": "code",
   "execution_count": null,
   "id": "d23ec141",
   "metadata": {},
   "outputs": [
    {
     "data": {
      "text/plain": [
       "'List all APIs in the directory for a particular providerName\\nReturns links to the individual API entry for each API.\\n\\n\\n路径: /{provider}.json\\n方法: GET\\n\\n参数:\\nprovider (path, 必需): '"
      ]
     },
     "execution_count": 23,
     "metadata": {},
     "output_type": "execute_result"
    }
   ],
   "source": [
    "if parameters:\n",
    "    param_descriptions = []\n",
    "    for param in parameters:\n",
    "        param_name = param[\"name\"]\n",
    "        param_in = param.get(\"in\", \"query\")\n",
    "        param_desc = param.get(\"description\", \"\")\n",
    "        param_required = \"必需\" if param.get(\"required\", False) else \"可选\"\n",
    "        param_descriptions.append(f\"{param_name} ({param_in}, {param_required}): {param_desc}\")\n",
    "\n",
    "    tool_description += \"\\n\\n参数:\\n\" + \"\\n\".join(param_descriptions)\n",
    "tool_description"
   ]
  },
  {
   "cell_type": "code",
   "execution_count": 24,
   "id": "2d61ca3f",
   "metadata": {},
   "outputs": [],
   "source": [
    "requests_wrapper = RequestsWrapper()\n",
    "\n",
    "tool = tool_class(\n",
    "    name=operation_id,\n",
    "    description=tool_description,\n",
    "    args_schema=ParamModel,\n",
    "    requests_wrapper=requests_wrapper,\n",
    "    base_url=base_url,\n",
    "    path=path,\n",
    "    method=method,\n",
    "    parameters_schema=parameters,\n",
    "    request_body_schema=request_body,\n",
    "    allow_dangerous_requests=True,\n",
    ")"
   ]
  },
  {
   "cell_type": "code",
   "execution_count": 25,
   "id": "9b4d1108",
   "metadata": {},
   "outputs": [
    {
     "name": "stdout",
     "output_type": "stream",
     "text": [
      "[{'name': 'provider', 'in': 'path', 'required': True, 'schema': {'type': 'string', 'minLength': 1, 'maxLength': 255, 'example': 'apis.guru'}}]\n",
      "None\n"
     ]
    },
    {
     "data": {
      "text/plain": [
       "'{\\n  \"apis\": {\\n    \"apis.guru\": {\\n      \"added\": \"2015-11-26T17:52:26.000Z\",\\n      \"info\": {\\n        \"contact\": {\\n          \"email\": \"mike.ralphson@gmail.com\",\\n          \"name\": \"APIs.guru\",\\n          \"url\": \"https://APIs.guru\"\\n        },\\n        \"description\": \"Wikipedia for Web APIs. Repository of API definitions in OpenAPI format.\\\\n**Warning**: If you want to be notified about changes in advance please join our [Slack channel](https://join.slack.com/t/mermade/shared_invite/zt-g78g7xir-MLE_CTCcXCdfJfG3CJe9qA).\\\\nClient sample: [[Demo]](https://apis.guru/simple-ui) [[Repo]](https://github.com/APIs-guru/simple-ui)\\\\n\",\\n        \"license\": {\\n          \"name\": \"CC0 1.0\",\\n          \"url\": \"https://github.com/APIs-guru/openapi-directory#licenses\"\\n        },\\n        \"title\": \"APIs.guru\",\\n        \"version\": \"2.2.0\",\\n        \"x-apisguru-categories\": [\\n          \"open_data\",\\n          \"developer_tools\"\\n        ],\\n        \"x-logo\": {\\n          \"url\": \"https://api.apis.guru/v2/cache/logo/https_apis.guru_branding_logo_vertical.svg\"\\n        },\\n        \"x-origin\": [\\n          {\\n            \"format\": \"openapi\",\\n            \"url\": \"https://api.apis.guru/v2/openapi.yaml\",\\n            \"version\": \"3.0\"\\n          }\\n        ],\\n        \"x-providerName\": \"apis.guru\",\\n        \"x-tags\": [\\n          \"API\",\\n          \"Catalog\",\\n          \"Directory\",\\n          \"REST\",\\n          \"Swagger\",\\n          \"OpenAPI\"\\n        ]\\n      },\\n      \"externalDocs\": {\\n        \"url\": \"https://github.com/APIs-guru/openapi-directory/blob/master/API.md\"\\n      },\\n      \"updated\": \"2023-04-05T13:10:14.812Z\",\\n      \"swaggerUrl\": \"https://api.apis.guru/v2/specs/apis.guru/2.2.0/openapi.json\",\\n      \"swaggerYamlUrl\": \"https://api.apis.guru/v2/specs/apis.guru/2.2.0/openapi.yaml\",\\n      \"openapiVer\": \"3.0.0\",\\n      \"link\": \"https://api.apis.guru/v2/specs/apis.guru/2.2.0.json\"\\n    }\\n  }\\n}'"
      ]
     },
     "execution_count": 25,
     "metadata": {},
     "output_type": "execute_result"
    }
   ],
   "source": [
    "tool.run({\"provider\": \"apis.guru\"})"
   ]
  },
  {
   "cell_type": "code",
   "execution_count": 26,
   "id": "bf1f6fe4",
   "metadata": {},
   "outputs": [
    {
     "name": "stdout",
     "output_type": "stream",
     "text": [
      "================================\u001b[1m Human Message \u001b[0m=================================\n",
      "\n",
      "List all APIs in the directory for apis.guru\n",
      "==================================\u001b[1m Ai Message \u001b[0m==================================\n",
      "Tool Calls:\n",
      "  getProvider (call_kAt8GYPecw6OMKte37FufY5G)\n",
      " Call ID: call_kAt8GYPecw6OMKte37FufY5G\n",
      "  Args:\n",
      "    provider: apis.guru\n",
      "[{'name': 'provider', 'in': 'path', 'required': True, 'schema': {'type': 'string', 'minLength': 1, 'maxLength': 255, 'example': 'apis.guru'}}]\n",
      "None\n",
      "=================================\u001b[1m Tool Message \u001b[0m=================================\n",
      "Name: getProvider\n",
      "\n",
      "{\n",
      "  \"apis\": {\n",
      "    \"apis.guru\": {\n",
      "      \"added\": \"2015-11-26T17:52:26.000Z\",\n",
      "      \"info\": {\n",
      "        \"contact\": {\n",
      "          \"email\": \"mike.ralphson@gmail.com\",\n",
      "          \"name\": \"APIs.guru\",\n",
      "          \"url\": \"https://APIs.guru\"\n",
      "        },\n",
      "        \"description\": \"Wikipedia for Web APIs. Repository of API definitions in OpenAPI format.\\n**Warning**: If you want to be notified about changes in advance please join our [Slack channel](https://join.slack.com/t/mermade/shared_invite/zt-g78g7xir-MLE_CTCcXCdfJfG3CJe9qA).\\nClient sample: [[Demo]](https://apis.guru/simple-ui) [[Repo]](https://github.com/APIs-guru/simple-ui)\\n\",\n",
      "        \"license\": {\n",
      "          \"name\": \"CC0 1.0\",\n",
      "          \"url\": \"https://github.com/APIs-guru/openapi-directory#licenses\"\n",
      "        },\n",
      "        \"title\": \"APIs.guru\",\n",
      "        \"version\": \"2.2.0\",\n",
      "        \"x-apisguru-categories\": [\n",
      "          \"open_data\",\n",
      "          \"developer_tools\"\n",
      "        ],\n",
      "        \"x-logo\": {\n",
      "          \"url\": \"https://api.apis.guru/v2/cache/logo/https_apis.guru_branding_logo_vertical.svg\"\n",
      "        },\n",
      "        \"x-origin\": [\n",
      "          {\n",
      "            \"format\": \"openapi\",\n",
      "            \"url\": \"https://api.apis.guru/v2/openapi.yaml\",\n",
      "            \"version\": \"3.0\"\n",
      "          }\n",
      "        ],\n",
      "        \"x-providerName\": \"apis.guru\",\n",
      "        \"x-tags\": [\n",
      "          \"API\",\n",
      "          \"Catalog\",\n",
      "          \"Directory\",\n",
      "          \"REST\",\n",
      "          \"Swagger\",\n",
      "          \"OpenAPI\"\n",
      "        ]\n",
      "      },\n",
      "      \"externalDocs\": {\n",
      "        \"url\": \"https://github.com/APIs-guru/openapi-directory/blob/master/API.md\"\n",
      "      },\n",
      "      \"updated\": \"2023-04-05T13:10:14.812Z\",\n",
      "      \"swaggerUrl\": \"https://api.apis.guru/v2/specs/apis.guru/2.2.0/openapi.json\",\n",
      "      \"swaggerYamlUrl\": \"https://api.apis.guru/v2/specs/apis.guru/2.2.0/openapi.yaml\",\n",
      "      \"openapiVer\": \"3.0.0\",\n",
      "      \"link\": \"https://api.apis.guru/v2/specs/apis.guru/2.2.0.json\"\n",
      "    }\n",
      "  }\n",
      "}\n",
      "==================================\u001b[1m Ai Message \u001b[0m==================================\n",
      "\n",
      "Here is the API information for \"apis.guru\":\n",
      "\n",
      "- **Title**: APIs.guru\n",
      "- **Description**: Wikipedia for Web APIs. Repository of API definitions in OpenAPI format. [Slack channel](https://join.slack.com/t/mermade/shared_invite/zt-g78g7xir-MLE_CTCcXCdfJfG3CJe9qA) for notifications. Client sample: [Demo](https://apis.guru/simple-ui) [Repo](https://github.com/APIs-guru/simple-ui).\n",
      "- **Version**: 2.2.0\n",
      "- **Categories**: Open Data, Developer Tools\n",
      "- **Tags**: API, Catalog, Directory, REST, Swagger, OpenAPI\n",
      "- **License**: [CC0 1.0](https://github.com/APIs-guru/openapi-directory#licenses)\n",
      "- **Contact**: \n",
      "  - **Name**: APIs.guru\n",
      "  - **Email**: mike.ralphson@gmail.com\n",
      "  - **URL**: [APIs.guru](https://APIs.guru)\n",
      "- **Logo**: ![Logo](https://api.apis.guru/v2/cache/logo/https_apis.guru_branding_logo_vertical.svg)\n",
      "- **External Documentation**: [API Documentation](https://github.com/APIs-guru/openapi-directory/blob/master/API.md)\n",
      "- **Swagger URL**: [OpenAPI JSON](https://api.apis.guru/v2/specs/apis.guru/2.2.0/openapi.json)\n",
      "- **Swagger YAML URL**: [OpenAPI YAML](https://api.apis.guru/v2/specs/apis.guru/2.2.0/openapi.yaml)\n",
      "- **OpenAPI Version**: 3.0.0\n",
      "- **Link**: [API Link](https://api.apis.guru/v2/specs/apis.guru/2.2.0.json)\n",
      "\n",
      "This API was added on November 26, 2015, and last updated on April 5, 2023.\n"
     ]
    }
   ],
   "source": [
    "from langchain.chat_models import init_chat_model\n",
    "from langgraph.prebuilt import create_react_agent\n",
    "\n",
    "\n",
    "llm = init_chat_model(\"azure_openai:gpt-4o\", temperature=0.0)\n",
    "\n",
    "agent = create_react_agent(\n",
    "    llm,\n",
    "    [tool],\n",
    ")\n",
    "\n",
    "\n",
    "question = \"List all APIs in the directory for apis.guru\"\n",
    "for step in agent.stream(\n",
    "    {\"messages\": [{\"role\": \"user\", \"content\": question}]},\n",
    "    stream_mode=\"values\",\n",
    "):\n",
    "    step[\"messages\"][-1].pretty_print()"
   ]
  }
 ],
 "metadata": {
  "kernelspec": {
   "display_name": "langgraph-test",
   "language": "python",
   "name": "python3"
  },
  "language_info": {
   "codemirror_mode": {
    "name": "ipython",
    "version": 3
   },
   "file_extension": ".py",
   "mimetype": "text/x-python",
   "name": "python",
   "nbconvert_exporter": "python",
   "pygments_lexer": "ipython3",
   "version": "3.13.5"
  }
 },
 "nbformat": 4,
 "nbformat_minor": 5
}
