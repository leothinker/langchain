{
 "cells": [
  {
   "cell_type": "code",
   "execution_count": null,
   "id": "4be952bc",
   "metadata": {},
   "outputs": [],
   "source": [
    "import operator\n",
    "\n",
    "from langgraph.graph import END, START, StateGraph\n",
    "from langgraph.types import Send\n",
    "from typing_extensions import Annotated, TypedDict\n",
    "\n",
    "\n",
    "class OverallState(TypedDict):\n",
    "    topic: str\n",
    "    subjects: list[str]\n",
    "    jokes: Annotated[list[str], operator.add]\n",
    "    best_selected_joke: str\n",
    "\n",
    "\n",
    "def generate_topics(state: OverallState):\n",
    "    return {\"subjects\": [\"lions\", \"elephants\", \"penguins\"]}\n",
    "\n",
    "\n",
    "def generate_joke(state: OverallState):\n",
    "    joke_map = {\n",
    "        \"lions\": \"Why don't lions like fast food? Because they can't catch it!\",\n",
    "        \"elephants\": \"Why don't elephants use computers? They're afraid of the mouse!\",\n",
    "        \"penguins\": \"Why don't penguins like talking to strangers at parties? Because they find it hard to break the ice.\",\n",
    "    }\n",
    "    return {\"jokes\": [joke_map[state[\"subject\"]]]}\n",
    "\n",
    "\n",
    "def continue_to_jokes(state: OverallState):\n",
    "    return [Send(\"generate_joke\", {\"subject\": s}) for s in state[\"subjects\"]]\n",
    "\n",
    "\n",
    "def best_joke(state: OverallState):\n",
    "    return {\"best_selected_joke\": \"penguins\"}\n",
    "\n",
    "\n",
    "builder = StateGraph(OverallState)\n",
    "builder.add_node(\"generate_topics\", generate_topics)\n",
    "builder.add_node(\"generate_joke\", generate_joke)\n",
    "builder.add_node(\"best_joke\", best_joke)\n",
    "builder.add_edge(START, \"generate_topics\")\n",
    "builder.add_conditional_edges(\"generate_topics\", continue_to_jokes, [\"generate_joke\"])\n",
    "builder.add_edge(\"generate_joke\", \"best_joke\")\n",
    "builder.add_edge(\"best_joke\", END)\n",
    "builder.add_edge(\"generate_topics\", END)\n",
    "graph = builder.compile()"
   ]
  },
  {
   "cell_type": "code",
   "execution_count": null,
   "id": "6c5190a4",
   "metadata": {},
   "outputs": [],
   "source": [
    "from IPython.display import Image, display\n",
    "\n",
    "display(Image(graph.get_graph().draw_mermaid_png()))"
   ]
  },
  {
   "cell_type": "code",
   "execution_count": null,
   "id": "f333e6f2",
   "metadata": {},
   "outputs": [],
   "source": [
    "# Call the graph: here we call it to generate a list of jokes\n",
    "for step in graph.stream({\"topic\": \"animals\"}):\n",
    "    print(step)"
   ]
  }
 ],
 "metadata": {
  "kernelspec": {
   "display_name": "langgraph-test",
   "language": "python",
   "name": "python3"
  },
  "language_info": {
   "codemirror_mode": {
    "name": "ipython",
    "version": 3
   },
   "file_extension": ".py",
   "mimetype": "text/x-python",
   "name": "python",
   "nbconvert_exporter": "python",
   "pygments_lexer": "ipython3",
   "version": "3.13.5"
  }
 },
 "nbformat": 4,
 "nbformat_minor": 5
}
